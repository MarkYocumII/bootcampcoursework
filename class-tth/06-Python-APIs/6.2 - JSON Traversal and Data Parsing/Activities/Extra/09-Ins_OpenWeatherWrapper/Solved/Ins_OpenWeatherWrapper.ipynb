{
 "cells": [
  {
   "cell_type": "markdown",
   "metadata": {},
   "source": [
    "# [OpenWeather Wrapper](https://openweathermapy.readthedocs.io/en/latest/)\n",
    "\n",
    "- Wrappers are use to take relatively complex tasks and simplify their execution by writing a function that handles the messiness behind the scenes.\n",
    "- Many widely used APIs will have publicly available Python wrappers available that have been developed by third-parties.\n",
    "- Similar to working with a new API, usage of a third-party wrapper typically requires a bit of time spent reading the documentation."
   ]
  },
  {
   "cell_type": "markdown",
   "metadata": {},
   "source": [
    "#### Import dependencies"
   ]
  },
  {
   "cell_type": "code",
   "execution_count": 7,
   "metadata": {
    "collapsed": true
   },
   "outputs": [],
   "source": [
    "# OpenWeather wrapper\n",
    "import openweathermapy.core as owm\n",
    "\n",
    "from pprint import pprint\n",
    "\n",
    "#config\n",
    "from config import api_key"
   ]
  },
  {
   "cell_type": "markdown",
   "metadata": {},
   "source": [
    "#### Create a settings dictionary to inform the API of how we want our response data"
   ]
  },
  {
   "cell_type": "code",
   "execution_count": 17,
   "metadata": {
    "collapsed": true
   },
   "outputs": [],
   "source": [
    "settings = {\"units\": \"imperial\", \"appid\": api_key}"
   ]
  },
  {
   "cell_type": "markdown",
   "metadata": {},
   "source": [
    "#### While the API and wrapper offer numerous functions to request various sets of weather data, we will use `get_current()` to request the current weather data for a particular city"
   ]
  },
  {
   "cell_type": "code",
   "execution_count": 18,
   "metadata": {},
   "outputs": [
    {
     "name": "stdout",
     "output_type": "stream",
     "text": [
      "{'base': 'stations',\n",
      " 'clouds': {'all': 75},\n",
      " 'cod': 200,\n",
      " 'coord': {'lat': 29.76, 'lon': -95.37},\n",
      " 'dt': 1545283740,\n",
      " 'id': 4699066,\n",
      " 'main': {'humidity': 93,\n",
      "          'pressure': 1008,\n",
      "          'temp': 53.17,\n",
      "          'temp_max': 55.4,\n",
      "          'temp_min': 51.08},\n",
      " 'name': 'Houston',\n",
      " 'sys': {'country': 'US',\n",
      "         'id': 4850,\n",
      "         'message': 0.0064,\n",
      "         'sunrise': 1545311536,\n",
      "         'sunset': 1545348378,\n",
      "         'type': 1},\n",
      " 'visibility': 12874,\n",
      " 'weather': [{'description': 'fog', 'icon': '50n', 'id': 741, 'main': 'Fog'},\n",
      "             {'description': 'mist', 'icon': '50n', 'id': 701, 'main': 'Mist'}],\n",
      " 'wind': {'deg': 340, 'speed': 3.36}}\n"
     ]
    }
   ],
   "source": [
    "current_weather_paris = owm.get_current(\"Houston\", **settings)\n",
    "pprint(current_weather_paris)"
   ]
  },
  {
   "cell_type": "markdown",
   "metadata": {},
   "source": [
    "#### Flexible access to response items\n",
    "\n",
    "The `openweathermapy` wrapper does more than just simplify the API request process. It also generates a custom data type called `openweathermapy.utils.NestedDict`, which extends Python's builtin `dict` by offering methods that provide more flexible access to the items in the response.\n",
    "\n",
    "In the response printout above, notice that the `temp` attribute is nested within the dictionary for `main`. In the cell below, we're accessing that attribute by passing a list that contains the value `main.temp` into the `NestedDict` object using the proper syntax."
   ]
  },
  {
   "cell_type": "code",
   "execution_count": 22,
   "metadata": {},
   "outputs": [
    {
     "name": "stdout",
     "output_type": "stream",
     "text": [
      "The current weather summary for Paris is: ('Houston', 53.17).\n"
     ]
    }
   ],
   "source": [
    "summary = [\"name\", \"main.temp\"]\n",
    "\n",
    "data = current_weather_paris(*summary)\n",
    "print(f\"The current weather summary for Paris is: {data}.\")"
   ]
  },
  {
   "cell_type": "code",
   "execution_count": null,
   "metadata": {},
   "outputs": [],
   "source": []
  }
 ],
 "metadata": {
  "kernelspec": {
   "display_name": "RicePythonData",
   "language": "python",
   "name": "ricepythondata"
  },
  "language_info": {
   "codemirror_mode": {
    "name": "ipython",
    "version": 3
   },
   "file_extension": ".py",
   "mimetype": "text/x-python",
   "name": "python",
   "nbconvert_exporter": "python",
   "pygments_lexer": "ipython3",
   "version": "3.7.1"
  },
  "varInspector": {
   "cols": {
    "lenName": 16,
    "lenType": 16,
    "lenVar": 40
   },
   "kernels_config": {
    "python": {
     "delete_cmd_postfix": "",
     "delete_cmd_prefix": "del ",
     "library": "var_list.py",
     "varRefreshCmd": "print(var_dic_list())"
    },
    "r": {
     "delete_cmd_postfix": ") ",
     "delete_cmd_prefix": "rm(",
     "library": "var_list.r",
     "varRefreshCmd": "cat(var_dic_list()) "
    }
   },
   "types_to_exclude": [
    "module",
    "function",
    "builtin_function_or_method",
    "instance",
    "_Feature"
   ],
   "window_display": false
  }
 },
 "nbformat": 4,
 "nbformat_minor": 2
}

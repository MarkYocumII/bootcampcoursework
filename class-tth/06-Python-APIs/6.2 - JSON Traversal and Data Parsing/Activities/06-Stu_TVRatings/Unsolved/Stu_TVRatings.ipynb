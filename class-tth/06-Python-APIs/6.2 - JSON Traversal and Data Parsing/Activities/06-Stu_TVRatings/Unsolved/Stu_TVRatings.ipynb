{
 "cells": [
  {
   "cell_type": "markdown",
   "metadata": {},
   "source": [
    "# TV Ratings\n",
    "\n",
    "Create an application that:\n",
    "* reads in a list of TV shows\n",
    "* makes multiple requests from an API to retrieve rating information\n",
    "* creates a Pandas DataFrame\n",
    "* visually displays the data.\n",
    "\n",
    "### Instructions:\n",
    "\n",
    "* You may use the list of TV shows provided in the starter file or create your own.\n",
    "\n",
    "* Request information on each TV show from the [TVmaze API's Show Search endpoint](https://www.tvmaze.com/api#show-search)\n",
    "* Store the name and rating information into lists.\n",
    "\n",
    "* Store this data in a dictionary and use it to create a Pandas DataFrame.\n",
    "\n",
    "* Use matplotlib to create a bar chart comparing the ratings of each show.\n",
    "\n",
    "### Plot output\n",
    "\n",
    "<center><img src=\"tv_show_ratings.png\"></img></center>"
   ]
  },
  {
   "cell_type": "markdown",
   "metadata": {},
   "source": [
    "#### Import Dependencies"
   ]
  },
  {
   "cell_type": "code",
   "execution_count": 1,
   "metadata": {
    "collapsed": true
   },
   "outputs": [],
   "source": [
    "import requests\n",
    "import json\n",
    "import pandas as pd\n",
    "import numpy as np\n",
    "import matplotlib.pyplot as plt"
   ]
  },
  {
   "cell_type": "markdown",
   "metadata": {},
   "source": [
    "#### Create list of TV shows and establish the base URL"
   ]
  },
  {
   "cell_type": "code",
   "execution_count": 2,
   "metadata": {
    "collapsed": true
   },
   "outputs": [],
   "source": [
    "# list of tv show titles to query\n",
    "tv_shows = [\"Altered Carbon\", \"Grey's Anatomy\", \"This is Us\", \"The Flash\",\n",
    "            \"Vikings\", \"Shameless\", \"Arrow\", \"Peaky Blinders\", \"Dirk Gently\"]\n",
    "\n",
    "# tv maze show search base url\n",
    "base_url = \"http://api.tvmaze.com/search/shows?q=\""
   ]
  },
  {
   "cell_type": "markdown",
   "metadata": {},
   "source": [
    "#### Loop through TV show titles and append titles and ratings to lists"
   ]
  },
  {
   "cell_type": "code",
   "execution_count": 7,
   "metadata": {
    "collapsed": true
   },
   "outputs": [
    {
     "name": "stdout",
     "output_type": "stream",
     "text": [
      "['Altered Carbon', \"Grey's Anatomy\", 'This Is Us', 'The Flash', 'Vikings', 'Shameless', 'Arrow', 'Peaky Blinders', 'Dirk Gently']\n",
      "[8.1, 8.4, 8.3, 8.1, 8.8, 8.7, 7.5, 9, 7.2]\n"
     ]
    }
   ],
   "source": [
    "titles=[]\n",
    "ratings=[]\n",
    "\n",
    "for show in tv_shows:\n",
    "    response = requests.get(base_url+show).json()\n",
    "    titles.append(response[0]['show']['name'])\n",
    "    ratings.append(response[0]['show'][\"rating\"]['average'])\n",
    "    \n",
    "print(titles)\n",
    "print(ratings)\n"
   ]
  },
  {
   "cell_type": "markdown",
   "metadata": {},
   "source": [
    "#### Create DataFrame from titles and ratings"
   ]
  },
  {
   "cell_type": "code",
   "execution_count": null,
   "metadata": {},
   "outputs": [],
   "source": []
  },
  {
   "cell_type": "markdown",
   "metadata": {},
   "source": [
    "#### Create a bar chart to plot each show's rating"
   ]
  },
  {
   "cell_type": "code",
   "execution_count": null,
   "metadata": {},
   "outputs": [],
   "source": []
  },
  {
   "cell_type": "code",
   "execution_count": null,
   "metadata": {},
   "outputs": [],
   "source": []
  }
 ],
 "metadata": {
  "kernelspec": {
   "display_name": "Python 3",
   "language": "python",
   "name": "python3"
  },
  "language_info": {
   "codemirror_mode": {
    "name": "ipython",
    "version": 3
   },
   "file_extension": ".py",
   "mimetype": "text/x-python",
   "name": "python",
   "nbconvert_exporter": "python",
   "pygments_lexer": "ipython3",
   "version": "3.7.0"
  },
  "varInspector": {
   "cols": {
    "lenName": 16,
    "lenType": 16,
    "lenVar": 40
   },
   "kernels_config": {
    "python": {
     "delete_cmd_postfix": "",
     "delete_cmd_prefix": "del ",
     "library": "var_list.py",
     "varRefreshCmd": "print(var_dic_list())"
    },
    "r": {
     "delete_cmd_postfix": ") ",
     "delete_cmd_prefix": "rm(",
     "library": "var_list.r",
     "varRefreshCmd": "cat(var_dic_list()) "
    }
   },
   "types_to_exclude": [
    "module",
    "function",
    "builtin_function_or_method",
    "instance",
    "_Feature"
   ],
   "window_display": false
  }
 },
 "nbformat": 4,
 "nbformat_minor": 2
}

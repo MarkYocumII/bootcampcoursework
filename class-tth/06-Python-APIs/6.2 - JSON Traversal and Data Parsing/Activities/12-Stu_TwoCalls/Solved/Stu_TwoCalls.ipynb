{
 "cells": [
  {
   "cell_type": "markdown",
   "metadata": {},
   "source": [
    "# Lending Types\n",
    "\n",
    "This activity provides an opportunity to practice making two API calls in sequence in which the second API call depends on the response of the first.\n",
    "\n",
    "### [World Bank API Documentation](https://datahelpdesk.worldbank.org/knowledgebase/articles/889392-about-this-api-documentation)\n",
    "\n",
    "### Instructions\n",
    "\n",
    "* Retrieve a list of the lending types the world bank keeps track of, and extract the ID key from each of them.\n",
    "* Next, determine how many countries are categorized under each lending type. Use a dict to store this information. \n",
    "  * This data is stored as the first element of the response array.\n",
    "* Finally, print the number of countries of each lending type.\n",
    "\n",
    "#### Hint\n",
    "\n",
    "* Reminder: Be sure to configure your API URL to return the data in json format.\n",
    "\n",
    "### Final Output\n",
    "<center><img src=\"Images/12-TwoCalls_Output.png\" width=500></img></center>"
   ]
  },
  {
   "cell_type": "markdown",
   "metadata": {},
   "source": [
    "#### Import dependencies and create url variable"
   ]
  },
  {
   "cell_type": "code",
   "execution_count": 1,
   "metadata": {
    "collapsed": true
   },
   "outputs": [],
   "source": [
    "import requests\n",
    "\n",
    "url = \"http://api.worldbank.org/v2/\""
   ]
  },
  {
   "cell_type": "markdown",
   "metadata": {},
   "source": [
    "#### Get the list of lending types the world bank has\n",
    "##### For data that is not broken down by country, indicator, etc., start looking into `Aggregate` API Queries."
   ]
  },
  {
   "cell_type": "code",
   "execution_count": 17,
   "metadata": {
    "collapsed": true
   },
   "outputs": [
    {
     "name": "stdout",
     "output_type": "stream",
     "text": [
      "['IBD', 'IDB', 'IDX', 'LNX']\n"
     ]
    }
   ],
   "source": [
    "# Request all Lending Types using the lendingTypes API\n",
    "lending_response = requests.get(f\"{url}lendingTypes?format=json\").json()\n",
    "\n",
    "# Using a list comprehension, create a list with ONLY the lending type ids\n",
    "lending_types = [lending_type[\"id\"] for lending_type in lending_response[1]]\n",
    "\n",
    "print(lending_types)"
   ]
  },
  {
   "cell_type": "markdown",
   "metadata": {},
   "source": [
    "#### Next, determine how many countries fall into each lending type.\n",
    "##### Hint: Look at the first element of the response array."
   ]
  },
  {
   "cell_type": "code",
   "execution_count": 3,
   "metadata": {
    "collapsed": true
   },
   "outputs": [],
   "source": [
    "# Create an empty dictionary that we will add to along the way\n",
    "country_count_by_type = {}\n",
    "\n",
    "for lending_type in lending_types:\n",
    "    query = f\"{url}countries?lendingType={lending_type}&format=json\"\n",
    "    response = requests.get(query).json()\n",
    "    country_count_by_type[lending_type] = response[0][\"total\"]"
   ]
  },
  {
   "cell_type": "markdown",
   "metadata": {},
   "source": [
    "#### Print the number of countries of each lending type"
   ]
  },
  {
   "cell_type": "code",
   "execution_count": 4,
   "metadata": {},
   "outputs": [
    {
     "name": "stdout",
     "output_type": "stream",
     "text": [
      "The number of countries with lending type IBD is 69.\n",
      "The number of countries with lending type IDB is 16.\n",
      "The number of countries with lending type IDX is 59.\n",
      "The number of countries with lending type LNX is 74.\n"
     ]
    }
   ],
   "source": [
    "for key, value in country_count_by_type.items():\n",
    "    print(f\"The number of countries with lending type {key} is {value}.\")"
   ]
  }
 ],
 "metadata": {
  "kernelspec": {
   "display_name": "RicePythonData",
   "language": "python",
   "name": "ricepythondata"
  },
  "language_info": {
   "codemirror_mode": {
    "name": "ipython",
    "version": 3
   },
   "file_extension": ".py",
   "mimetype": "text/x-python",
   "name": "python",
   "nbconvert_exporter": "python",
   "pygments_lexer": "ipython3",
   "version": "3.7.1"
  },
  "varInspector": {
   "cols": {
    "lenName": 16,
    "lenType": 16,
    "lenVar": 40
   },
   "kernels_config": {
    "python": {
     "delete_cmd_postfix": "",
     "delete_cmd_prefix": "del ",
     "library": "var_list.py",
     "varRefreshCmd": "print(var_dic_list())"
    },
    "r": {
     "delete_cmd_postfix": ") ",
     "delete_cmd_prefix": "rm(",
     "library": "var_list.r",
     "varRefreshCmd": "cat(var_dic_list()) "
    }
   },
   "types_to_exclude": [
    "module",
    "function",
    "builtin_function_or_method",
    "instance",
    "_Feature"
   ],
   "window_display": false
  }
 },
 "nbformat": 4,
 "nbformat_minor": 2
}

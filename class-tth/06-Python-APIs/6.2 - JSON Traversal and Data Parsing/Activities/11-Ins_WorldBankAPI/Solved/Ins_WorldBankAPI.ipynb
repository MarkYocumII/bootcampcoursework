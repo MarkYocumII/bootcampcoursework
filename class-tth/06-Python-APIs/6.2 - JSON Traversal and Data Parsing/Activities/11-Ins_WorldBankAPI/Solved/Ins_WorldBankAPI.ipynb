{
 "cells": [
  {
   "cell_type": "markdown",
   "metadata": {},
   "source": [
    "# [World Bank API](https://datahelpdesk.worldbank.org/knowledgebase/articles/889392-about-this-api-documentation)\n",
    "\n",
    "\n",
    "### API Queries: Argument vs URL\n",
    "\n",
    "- **Argument-based** query strings require you to pass in *arguments* to the URL to inform it of what data you're looking for. This is the type of query string that we've been working with in class today.\n",
    "    - Example: [`http://api.worldbank.org/V2/countries?incomeLevel=LIC`](http://api.worldbank.org/V2/countries?incomeLevel=LIC)\n",
    "- **URL-based** query strings are pre-configured URL paths that direct you to a canned response.\n",
    "    - Example: [`http://api.worldbank.org/V2/incomeLevels/LIC/countries`](http://api.worldbank.org/V2/incomeLevels/LIC/countries)"
   ]
  },
  {
   "cell_type": "markdown",
   "metadata": {},
   "source": [
    "#### Import dependencies and construct variables"
   ]
  },
  {
   "cell_type": "code",
   "execution_count": 102,
   "metadata": {
    "collapsed": true
   },
   "outputs": [],
   "source": [
    "import requests\n",
    "from pprint import pprint\n",
    "\n",
    "# variables\n",
    "url = \"http://api.worldbank.org/v2/\"\n",
    "\n",
    "# default response format = XML\n",
    "response_format = \"json\"\n",
    "\n",
    "# default number of countries per page = 50\n",
    "countries_per_page = 4"
   ]
  },
  {
   "cell_type": "markdown",
   "metadata": {},
   "source": [
    "#### Compile the query URL\n",
    "\n",
    "**NOTE:** We technically could have just created one long string with all of our arguments in the string, but using variables to contain those arguments makes our code easier to read and it allows us to quickly adjust argument values via the respective variables."
   ]
  },
  {
   "cell_type": "code",
   "execution_count": 103,
   "metadata": {
    "collapsed": true
   },
   "outputs": [
    {
     "name": "stdout",
     "output_type": "stream",
     "text": [
      "http://api.worldbank.org/v2/countries?format=json&per_page=4\n"
     ]
    }
   ],
   "source": [
    "# Compile the query URL\n",
    "query_url = f\"{url}countries?format={response_format}&per_page={countries_per_page}\"\n",
    "print(query_url)"
   ]
  },
  {
   "cell_type": "markdown",
   "metadata": {},
   "source": [
    "#### Execute the GET request"
   ]
  },
  {
   "cell_type": "code",
   "execution_count": 104,
   "metadata": {
    "collapsed": true
   },
   "outputs": [],
   "source": [
    "countries_response = requests.get(query_url).json()"
   ]
  },
  {
   "cell_type": "markdown",
   "metadata": {},
   "source": [
    "#### Explore the response\n",
    "\n",
    "Since every API returns the response in a different format, we could first take a quick look at the response type and length."
   ]
  },
  {
   "cell_type": "code",
   "execution_count": 99,
   "metadata": {},
   "outputs": [
    {
     "name": "stdout",
     "output_type": "stream",
     "text": [
      "Response Type: <class 'list'>\n",
      "Response Length: 2\n"
     ]
    }
   ],
   "source": [
    "print(f\"Response Type: {type(countries_response)}\")\n",
    "print(f\"Response Length: {len(countries_response)}\")"
   ]
  },
  {
   "cell_type": "markdown",
   "metadata": {},
   "source": [
    "#### Since our response has 2 items in the list, we should take a look at each of them.\n",
    "\n",
    "##### The first item provides a general summary of the response that includes the total number of countries that meet our selection.\n",
    "\n",
    "##### The second item provides the actual countries and their associated data"
   ]
  },
  {
   "cell_type": "code",
   "execution_count": 106,
   "metadata": {},
   "outputs": [
    {
     "name": "stdout",
     "output_type": "stream",
     "text": [
      "RESPONSE ITEM 1:\n",
      "-------------------------\n",
      "{'page': 1, 'pages': 76, 'per_page': '4', 'total': 304}\n",
      "\n",
      "RESPONSE ITEM 2:\n",
      "-------------------------\n",
      "[{'adminregion': {'id': '', 'iso2code': '', 'value': ''},\n",
      "  'capitalCity': 'Oranjestad',\n",
      "  'id': 'ABW',\n",
      "  'incomeLevel': {'id': 'HIC', 'iso2code': 'XD', 'value': 'High income'},\n",
      "  'iso2Code': 'AW',\n",
      "  'latitude': '12.5167',\n",
      "  'lendingType': {'id': 'LNX', 'iso2code': 'XX', 'value': 'Not classified'},\n",
      "  'longitude': '-70.0167',\n",
      "  'name': 'Aruba',\n",
      "  'region': {'id': 'LCN',\n",
      "             'iso2code': 'ZJ',\n",
      "             'value': 'Latin America & Caribbean '}},\n",
      " {'adminregion': {'id': 'SAS', 'iso2code': '8S', 'value': 'South Asia'},\n",
      "  'capitalCity': 'Kabul',\n",
      "  'id': 'AFG',\n",
      "  'incomeLevel': {'id': 'LIC', 'iso2code': 'XM', 'value': 'Low income'},\n",
      "  'iso2Code': 'AF',\n",
      "  'latitude': '34.5228',\n",
      "  'lendingType': {'id': 'IDX', 'iso2code': 'XI', 'value': 'IDA'},\n",
      "  'longitude': '69.1761',\n",
      "  'name': 'Afghanistan',\n",
      "  'region': {'id': 'SAS', 'iso2code': '8S', 'value': 'South Asia'}},\n",
      " {'adminregion': {'id': '', 'iso2code': '', 'value': ''},\n",
      "  'capitalCity': '',\n",
      "  'id': 'AFR',\n",
      "  'incomeLevel': {'id': 'NA', 'iso2code': 'NA', 'value': 'Aggregates'},\n",
      "  'iso2Code': 'A9',\n",
      "  'latitude': '',\n",
      "  'lendingType': {'id': '', 'iso2code': '', 'value': 'Aggregates'},\n",
      "  'longitude': '',\n",
      "  'name': 'Africa',\n",
      "  'region': {'id': 'NA', 'iso2code': 'NA', 'value': 'Aggregates'}},\n",
      " {'adminregion': {'id': 'SSA',\n",
      "                  'iso2code': 'ZF',\n",
      "                  'value': 'Sub-Saharan Africa (excluding high income)'},\n",
      "  'capitalCity': 'Luanda',\n",
      "  'id': 'AGO',\n",
      "  'incomeLevel': {'id': 'LMC',\n",
      "                  'iso2code': 'XN',\n",
      "                  'value': 'Lower middle income'},\n",
      "  'iso2Code': 'AO',\n",
      "  'latitude': '-8.81155',\n",
      "  'lendingType': {'id': 'IBD', 'iso2code': 'XF', 'value': 'IBRD'},\n",
      "  'longitude': '13.242',\n",
      "  'name': 'Angola',\n",
      "  'region': {'id': 'SSF', 'iso2code': 'ZG', 'value': 'Sub-Saharan Africa '}}]\n"
     ]
    }
   ],
   "source": [
    "print(\"RESPONSE ITEM 1:\")\n",
    "print(\"-\"*25)\n",
    "pprint(countries_response[0])\n",
    "\n",
    "print()\n",
    "\n",
    "print(\"RESPONSE ITEM 2:\")\n",
    "print(\"-\"*25)\n",
    "pprint(countries_response[1])"
   ]
  },
  {
   "cell_type": "markdown",
   "metadata": {},
   "source": [
    "#### Print the country names"
   ]
  },
  {
   "cell_type": "code",
   "execution_count": 107,
   "metadata": {},
   "outputs": [
    {
     "name": "stdout",
     "output_type": "stream",
     "text": [
      "Aruba\n",
      "Afghanistan\n",
      "Africa\n",
      "Angola\n"
     ]
    }
   ],
   "source": [
    "countries_list = countries_response[1]\n",
    "\n",
    "for country in countries_list:\n",
    "    print(country[\"name\"])"
   ]
  }
 ],
 "metadata": {
  "kernelspec": {
   "display_name": "Python 3",
   "language": "python",
   "name": "python3"
  },
  "language_info": {
   "codemirror_mode": {
    "name": "ipython",
    "version": 3
   },
   "file_extension": ".py",
   "mimetype": "text/x-python",
   "name": "python",
   "nbconvert_exporter": "python",
   "pygments_lexer": "ipython3",
   "version": "3.7.0"
  }
 },
 "nbformat": 4,
 "nbformat_minor": 2
}

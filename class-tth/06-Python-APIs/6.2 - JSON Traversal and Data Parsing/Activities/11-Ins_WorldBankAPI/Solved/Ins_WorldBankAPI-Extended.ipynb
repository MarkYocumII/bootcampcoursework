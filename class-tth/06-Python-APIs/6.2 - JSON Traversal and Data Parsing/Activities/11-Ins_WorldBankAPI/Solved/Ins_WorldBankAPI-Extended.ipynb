{
 "cells": [
  {
   "cell_type": "markdown",
   "metadata": {},
   "source": [
    "# [World Bank API](https://datahelpdesk.worldbank.org/knowledgebase/articles/889392-about-this-api-documentation)\n",
    "\n",
    "\n",
    "### API Queries: Argument vs URL\n",
    "\n",
    "- **Argument-based** query strings require you to pass in *arguments* to the URL to inform it of what data you're looking for. This is the type of query string that we've been working with in class today.\n",
    "    - Example: [`http://api.worldbank.org/V2/countries?incomeLevel=LIC`](http://api.worldbank.org/V2/countries?incomeLevel=LIC)\n",
    "- **URL-based** query strings are pre-configured URL paths that direct you to a canned response.\n",
    "    - Example: [`http://api.worldbank.org/V2/incomeLevels/LIC/countries`](http://api.worldbank.org/V2/incomeLevels/LIC/countries)"
   ]
  },
  {
   "cell_type": "markdown",
   "metadata": {},
   "source": [
    "# 1. Request all countries and associated data from API\n",
    "\n",
    "#### Import dependencies and construct variables"
   ]
  },
  {
   "cell_type": "code",
   "execution_count": 102,
   "metadata": {
    "collapsed": true
   },
   "outputs": [],
   "source": [
    "import requests\n",
    "from pprint import pprint\n",
    "\n",
    "# variables\n",
    "url = \"http://api.worldbank.org/v2/\"\n",
    "\n",
    "# default response format = XML\n",
    "response_format = \"json\"\n",
    "\n",
    "# default number of countries per page = 50\n",
    "countries_per_page = 4"
   ]
  },
  {
   "cell_type": "markdown",
   "metadata": {},
   "source": [
    "#### Compile the query URL\n",
    "\n",
    "**NOTE:** We technically could have just created one long string with all of our arguments in the string, but using variables to contain those arguments makes our code easier to read and it allows us to quickly adjust argument values via the respective variables."
   ]
  },
  {
   "cell_type": "code",
   "execution_count": 103,
   "metadata": {
    "collapsed": true
   },
   "outputs": [
    {
     "name": "stdout",
     "output_type": "stream",
     "text": [
      "http://api.worldbank.org/v2/countries?format=json&per_page=4\n"
     ]
    }
   ],
   "source": [
    "# Compile the query URL\n",
    "query_url = f\"{url}countries?format={response_format}&per_page={countries_per_page}\"\n",
    "print(query_url)"
   ]
  },
  {
   "cell_type": "markdown",
   "metadata": {},
   "source": [
    "#### Execute the GET request"
   ]
  },
  {
   "cell_type": "code",
   "execution_count": 104,
   "metadata": {
    "collapsed": true
   },
   "outputs": [],
   "source": [
    "countries_response = requests.get(query_url).json()"
   ]
  },
  {
   "cell_type": "markdown",
   "metadata": {},
   "source": [
    "#### Explore the response\n",
    "\n",
    "Since every API returns the response in a different format, we could first take a quick look at the response type and length."
   ]
  },
  {
   "cell_type": "code",
   "execution_count": 99,
   "metadata": {},
   "outputs": [
    {
     "name": "stdout",
     "output_type": "stream",
     "text": [
      "Response Type: <class 'list'>\n",
      "Response Length: 2\n"
     ]
    }
   ],
   "source": [
    "print(f\"Response Type: {type(countries_response)}\")\n",
    "print(f\"Response Length: {len(countries_response)}\")"
   ]
  },
  {
   "cell_type": "markdown",
   "metadata": {},
   "source": [
    "#### Since our response has 2 items in the list, we should take a look at each of them.\n",
    "\n",
    "##### The first item provides a general summary of the response that includes the total number of countries that meet our selection.\n",
    "\n",
    "##### The second item provides the actual countries and their associated data"
   ]
  },
  {
   "cell_type": "code",
   "execution_count": 106,
   "metadata": {},
   "outputs": [
    {
     "name": "stdout",
     "output_type": "stream",
     "text": [
      "RESPONSE ITEM 1:\n",
      "-------------------------\n",
      "{'page': 1, 'pages': 76, 'per_page': '4', 'total': 304}\n",
      "\n",
      "RESPONSE ITEM 2:\n",
      "-------------------------\n",
      "[{'adminregion': {'id': '', 'iso2code': '', 'value': ''},\n",
      "  'capitalCity': 'Oranjestad',\n",
      "  'id': 'ABW',\n",
      "  'incomeLevel': {'id': 'HIC', 'iso2code': 'XD', 'value': 'High income'},\n",
      "  'iso2Code': 'AW',\n",
      "  'latitude': '12.5167',\n",
      "  'lendingType': {'id': 'LNX', 'iso2code': 'XX', 'value': 'Not classified'},\n",
      "  'longitude': '-70.0167',\n",
      "  'name': 'Aruba',\n",
      "  'region': {'id': 'LCN',\n",
      "             'iso2code': 'ZJ',\n",
      "             'value': 'Latin America & Caribbean '}},\n",
      " {'adminregion': {'id': 'SAS', 'iso2code': '8S', 'value': 'South Asia'},\n",
      "  'capitalCity': 'Kabul',\n",
      "  'id': 'AFG',\n",
      "  'incomeLevel': {'id': 'LIC', 'iso2code': 'XM', 'value': 'Low income'},\n",
      "  'iso2Code': 'AF',\n",
      "  'latitude': '34.5228',\n",
      "  'lendingType': {'id': 'IDX', 'iso2code': 'XI', 'value': 'IDA'},\n",
      "  'longitude': '69.1761',\n",
      "  'name': 'Afghanistan',\n",
      "  'region': {'id': 'SAS', 'iso2code': '8S', 'value': 'South Asia'}},\n",
      " {'adminregion': {'id': '', 'iso2code': '', 'value': ''},\n",
      "  'capitalCity': '',\n",
      "  'id': 'AFR',\n",
      "  'incomeLevel': {'id': 'NA', 'iso2code': 'NA', 'value': 'Aggregates'},\n",
      "  'iso2Code': 'A9',\n",
      "  'latitude': '',\n",
      "  'lendingType': {'id': '', 'iso2code': '', 'value': 'Aggregates'},\n",
      "  'longitude': '',\n",
      "  'name': 'Africa',\n",
      "  'region': {'id': 'NA', 'iso2code': 'NA', 'value': 'Aggregates'}},\n",
      " {'adminregion': {'id': 'SSA',\n",
      "                  'iso2code': 'ZF',\n",
      "                  'value': 'Sub-Saharan Africa (excluding high income)'},\n",
      "  'capitalCity': 'Luanda',\n",
      "  'id': 'AGO',\n",
      "  'incomeLevel': {'id': 'LMC',\n",
      "                  'iso2code': 'XN',\n",
      "                  'value': 'Lower middle income'},\n",
      "  'iso2Code': 'AO',\n",
      "  'latitude': '-8.81155',\n",
      "  'lendingType': {'id': 'IBD', 'iso2code': 'XF', 'value': 'IBRD'},\n",
      "  'longitude': '13.242',\n",
      "  'name': 'Angola',\n",
      "  'region': {'id': 'SSF', 'iso2code': 'ZG', 'value': 'Sub-Saharan Africa '}}]\n"
     ]
    }
   ],
   "source": [
    "print(\"RESPONSE ITEM 1:\")\n",
    "print(\"-\"*25)\n",
    "pprint(countries_response[0])\n",
    "\n",
    "print()\n",
    "\n",
    "print(\"RESPONSE ITEM 2:\")\n",
    "print(\"-\"*25)\n",
    "pprint(countries_response[1])"
   ]
  },
  {
   "cell_type": "markdown",
   "metadata": {},
   "source": [
    "#### Print the country names"
   ]
  },
  {
   "cell_type": "code",
   "execution_count": 107,
   "metadata": {},
   "outputs": [
    {
     "name": "stdout",
     "output_type": "stream",
     "text": [
      "Aruba\n",
      "Afghanistan\n",
      "Africa\n",
      "Angola\n"
     ]
    }
   ],
   "source": [
    "countries_list = countries_response[1]\n",
    "\n",
    "for country in countries_list:\n",
    "    print(country[\"name\"])"
   ]
  },
  {
   "cell_type": "markdown",
   "metadata": {},
   "source": [
    "# 2. Make a more selective request for income level by country\n",
    "\n",
    "#### API Request for South Asian countries"
   ]
  },
  {
   "cell_type": "code",
   "execution_count": 171,
   "metadata": {},
   "outputs": [
    {
     "name": "stdout",
     "output_type": "stream",
     "text": [
      "http://api.worldbank.org/v2/countries?format=json&region=SAS\n"
     ]
    }
   ],
   "source": [
    "# region selection for South Asia\n",
    "region = \"SAS\"\n",
    "\n",
    "# Compile query URL using the more selective argument variables\n",
    "selective_query_url = f\"{url}countries?format={response_format}&region={region}\"\n",
    "\n",
    "# Execute GET request\n",
    "selective_countries_response = requests.get(selective_query_url).json()\n",
    "\n",
    "# Print the URL for clarity\n",
    "print(selective_query_url)"
   ]
  },
  {
   "cell_type": "markdown",
   "metadata": {},
   "source": [
    "#### Explore the response"
   ]
  },
  {
   "cell_type": "code",
   "execution_count": 175,
   "metadata": {},
   "outputs": [
    {
     "name": "stdout",
     "output_type": "stream",
     "text": [
      "Selective Count:  8\n",
      "\n",
      "Country: Afghanistan\n",
      "Income: LIC - Low income\n",
      "\n",
      "Country: Bangladesh\n",
      "Income: LMC - Lower middle income\n",
      "\n",
      "Country: Bhutan\n",
      "Income: LMC - Lower middle income\n",
      "\n",
      "Country: India\n",
      "Income: LMC - Lower middle income\n",
      "\n",
      "Country: Sri Lanka\n",
      "Income: LMC - Lower middle income\n",
      "\n",
      "Country: Maldives\n",
      "Income: UMC - Upper middle income\n",
      "\n",
      "Country: Nepal\n",
      "Income: LIC - Low income\n",
      "\n",
      "Country: Pakistan\n",
      "Income: LMC - Lower middle income\n",
      "\n"
     ]
    }
   ],
   "source": [
    "# How many SAS countries are there?\n",
    "print(\"Selective Count: \", selective_countries_response[0]['total'])\n",
    "print()\n",
    "\n",
    "# Print each country and the respective income level\n",
    "for c in selective_countries_response[1]:\n",
    "    print(f\"Country: {c['name']}\")\n",
    "    print(f\"Income: {c['incomeLevel']['id']} - {c['incomeLevel']['value']}\")\n",
    "    print()"
   ]
  },
  {
   "cell_type": "markdown",
   "metadata": {},
   "source": [
    "## 3. What if we want to find out how many countries fall into each income level"
   ]
  },
  {
   "cell_type": "markdown",
   "metadata": {},
   "source": [
    "#### Using a different API offered by the World Bank, we can first obtain just the unique income levels"
   ]
  },
  {
   "cell_type": "code",
   "execution_count": 194,
   "metadata": {},
   "outputs": [
    {
     "name": "stdout",
     "output_type": "stream",
     "text": [
      "[{'id': 'HIC', 'iso2code': 'XD', 'value': 'High income'},\n",
      " {'id': 'INX', 'iso2code': 'XY', 'value': 'Not classified'},\n",
      " {'id': 'LIC', 'iso2code': 'XM', 'value': 'Low income'},\n",
      " {'id': 'LMC', 'iso2code': 'XN', 'value': 'Lower middle income'},\n",
      " {'id': 'LMY', 'iso2code': 'XO', 'value': 'Low & middle income'},\n",
      " {'id': 'MIC', 'iso2code': 'XP', 'value': 'Middle income'},\n",
      " {'id': 'UMC', 'iso2code': 'XT', 'value': 'Upper middle income'}]\n"
     ]
    }
   ],
   "source": [
    "# compile URL for strictly the income levels\n",
    "income_url = f\"{url}incomelevel?format={response_format}\"\n",
    "\n",
    "# Execute GET request and convert to json\n",
    "income_response = requests.get(tmp_url).json()\n",
    "\n",
    "pprint(income_response[1])"
   ]
  },
  {
   "cell_type": "markdown",
   "metadata": {},
   "source": [
    "#### Create a list of all incomeLevel IDs"
   ]
  },
  {
   "cell_type": "code",
   "execution_count": 195,
   "metadata": {},
   "outputs": [
    {
     "name": "stdout",
     "output_type": "stream",
     "text": [
      "['HIC', 'INX', 'LIC', 'LMC', 'LMY', 'MIC', 'UMC']\n"
     ]
    }
   ],
   "source": [
    "incomes = [income['id'] for income in income_response[1]]\n",
    "print(incomes)"
   ]
  },
  {
   "cell_type": "markdown",
   "metadata": {},
   "source": [
    "#### Loop through the income values and execute a GET request for countries that are associated with each income value"
   ]
  },
  {
   "cell_type": "code",
   "execution_count": 212,
   "metadata": {},
   "outputs": [
    {
     "name": "stdout",
     "output_type": "stream",
     "text": [
      "{'HIC': 81, 'INX': 0, 'LIC': 34, 'LMC': 47, 'LMY': 137, 'MIC': 103, 'UMC': 56}\n"
     ]
    }
   ],
   "source": [
    "# create empty dictionary to add to within the loop\n",
    "inc_dict = {}\n",
    "\n",
    "# loop over all unique incomes\n",
    "for i in incomes:\n",
    "    \n",
    "    # Execute a GET request for all countries FILTERED BY incomeLevel\n",
    "    income_country_response = requests.get(f\"{url}countries?format={response_format}&incomeLevel={i}\").json()\n",
    "    \n",
    "    # add an entry to the empty dictionary where the key is the incomeLevel and the value is the total number of countries that are associated with that incomeLevel\n",
    "    inc_dict[i] = income_country_response[0]['total']\n",
    "    \n",
    "# print the dictionary counts    \n",
    "print(inc_dict)"
   ]
  },
  {
   "cell_type": "code",
   "execution_count": null,
   "metadata": {},
   "outputs": [],
   "source": []
  }
 ],
 "metadata": {
  "kernelspec": {
   "display_name": "Python 3",
   "language": "python",
   "name": "python3"
  },
  "language_info": {
   "codemirror_mode": {
    "name": "ipython",
    "version": 3
   },
   "file_extension": ".py",
   "mimetype": "text/x-python",
   "name": "python",
   "nbconvert_exporter": "python",
   "pygments_lexer": "ipython3",
   "version": "3.7.0"
  }
 },
 "nbformat": 4,
 "nbformat_minor": 2
}

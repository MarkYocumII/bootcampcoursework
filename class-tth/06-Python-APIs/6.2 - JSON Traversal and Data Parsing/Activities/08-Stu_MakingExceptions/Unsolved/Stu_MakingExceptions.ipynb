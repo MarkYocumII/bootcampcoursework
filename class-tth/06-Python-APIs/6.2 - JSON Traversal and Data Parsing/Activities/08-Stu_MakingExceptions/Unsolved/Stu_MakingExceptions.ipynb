{
 "cells": [
  {
   "cell_type": "markdown",
   "metadata": {},
   "source": [
    "# Making Exceptions\n",
    "\n",
    "### Instructions:\n",
    "\n",
    "* Without removing any of the lines from the starter code provided, create `try` and `except` blocks that will allow the application to run without terminating."
   ]
  },
  {
   "cell_type": "code",
   "execution_count": 6,
   "metadata": {},
   "outputs": [
    {
     "name": "stdout",
     "output_type": "stream",
     "text": [
      "Infinity looks like  ahh fuck!\n",
      "Stop trying the impossible\n"
     ]
    }
   ],
   "source": [
    "try:\n",
    "    \n",
    "    print(\"Infinity looks like + \" + str(10 / 0) + \".\")\n",
    "\n",
    "except ZeroDivisionError:\n",
    "    print(\"Infinity looks like  ahh fuck!\")\n",
    "    print('Stop trying the impossible')"
   ]
  },
  {
   "cell_type": "code",
   "execution_count": null,
   "metadata": {},
   "outputs": [],
   "source": [
    "print(\"I think her name was + \" + name + \"?\")"
   ]
  },
  {
   "cell_type": "code",
   "execution_count": null,
   "metadata": {},
   "outputs": [],
   "source": [
    "print(\"Your name is a nonsense number. Look: \" + int(\"Gabriel\"))"
   ]
  },
  {
   "cell_type": "code",
   "execution_count": null,
   "metadata": {},
   "outputs": [],
   "source": [
    "print(\"You made it through the gauntlet--the message survived!\")"
   ]
  }
 ],
 "metadata": {
  "kernelspec": {
   "display_name": "Python 3",
   "language": "python",
   "name": "python3"
  },
  "language_info": {
   "codemirror_mode": {
    "name": "ipython",
    "version": 3
   },
   "file_extension": ".py",
   "mimetype": "text/x-python",
   "name": "python",
   "nbconvert_exporter": "python",
   "pygments_lexer": "ipython3",
   "version": "3.7.0"
  }
 },
 "nbformat": 4,
 "nbformat_minor": 2
}

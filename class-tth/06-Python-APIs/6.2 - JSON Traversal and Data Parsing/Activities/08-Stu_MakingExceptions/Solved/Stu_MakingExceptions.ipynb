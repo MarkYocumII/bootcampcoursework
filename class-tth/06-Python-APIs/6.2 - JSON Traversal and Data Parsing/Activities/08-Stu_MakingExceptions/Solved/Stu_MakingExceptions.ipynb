{
 "cells": [
  {
   "cell_type": "markdown",
   "metadata": {},
   "source": [
    "# Making Exceptions\n",
    "\n",
    "### Instructions:\n",
    "\n",
    "* Without removing any of the lines from the starter code provided, create `try` and `except` blocks that will allow the application to run without terminating."
   ]
  },
  {
   "cell_type": "code",
   "execution_count": 1,
   "metadata": {},
   "outputs": [
    {
     "name": "stdout",
     "output_type": "stream",
     "text": [
      "Woops. Can't do that.\n",
      "Oh, I forgot to define 'name'. D'oh.\n",
      "Drat. 'Gabriel' isn't a number?\n",
      "I made it through the gauntlet. The message survived!\n"
     ]
    }
   ],
   "source": [
    "try:\n",
    "    print(\"Infinity looks like + \" + str(10 / 0) + \".\")\n",
    "except ZeroDivisionError:\n",
    "    print(\"Woops. Can't do that.\")\n",
    "\n",
    "try:\n",
    "    print(\"I think her name was + \" + name + \"?\")\n",
    "except NameError:\n",
    "    print(\"Oh, I forgot to define 'name'. D'oh.\")\n",
    "\n",
    "try:\n",
    "    print(\"Your name is a nonsense number. Look: \" + int(\"Gabriel\"))\n",
    "except ValueError:\n",
    "    print(\"Drat. 'Gabriel' isn't a number?\")\n",
    "\n",
    "print(\"I made it through the gauntlet. The message survived!\")"
   ]
  },
  {
   "cell_type": "code",
   "execution_count": null,
   "metadata": {},
   "outputs": [],
   "source": []
  }
 ],
 "metadata": {
  "kernelspec": {
   "display_name": "RicePythonData",
   "language": "python",
   "name": "ricepythondata"
  },
  "language_info": {
   "codemirror_mode": {
    "name": "ipython",
    "version": 3
   },
   "file_extension": ".py",
   "mimetype": "text/x-python",
   "name": "python",
   "nbconvert_exporter": "python",
   "pygments_lexer": "ipython3",
   "version": "3.7.1"
  }
 },
 "nbformat": 4,
 "nbformat_minor": 2
}

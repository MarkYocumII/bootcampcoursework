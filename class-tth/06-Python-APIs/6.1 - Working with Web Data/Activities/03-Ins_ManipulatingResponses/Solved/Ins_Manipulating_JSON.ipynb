{
 "cells": [
  {
   "cell_type": "markdown",
   "metadata": {},
   "source": [
    "# Working with JSON Responses"
   ]
  },
  {
   "cell_type": "markdown",
   "metadata": {},
   "source": [
    "#### Import dependencies"
   ]
  },
  {
   "cell_type": "code",
   "execution_count": 18,
   "metadata": {
    "collapsed": true
   },
   "outputs": [],
   "source": [
    "import requests\n",
    "import json"
   ]
  },
  {
   "cell_type": "markdown",
   "metadata": {},
   "source": [
    "#### Perform a GET Request and saving the API's response within a variable"
   ]
  },
  {
   "cell_type": "code",
   "execution_count": 21,
   "metadata": {
    "collapsed": false
   },
   "outputs": [
    {
     "name": "stdout",
     "output_type": "stream",
     "text": [
      "<class 'dict'>\n"
     ]
    }
   ],
   "source": [
    "url = \"https://api.spacexdata.com/v3/rockets/falcon9\"\n",
    "\n",
    "# Request API response and store in variable called \"response\"\n",
    "response = requests.get(url)\n",
    "\n",
    "# create new variable that contains the json output from the request\n",
    "response_json = response.json()\n",
    "\n",
    "print(type(response_json))"
   ]
  },
  {
   "cell_type": "markdown",
   "metadata": {},
   "source": [
    "#### Pretty print the json output to the screen"
   ]
  },
  {
   "cell_type": "code",
   "execution_count": 22,
   "metadata": {
    "collapsed": false
   },
   "outputs": [
    {
     "name": "stdout",
     "output_type": "stream",
     "text": [
      "{\n",
      "    \"active\": true,\n",
      "    \"boosters\": 0,\n",
      "    \"company\": \"SpaceX\",\n",
      "    \"cost_per_launch\": 50000000,\n",
      "    \"country\": \"United States\",\n",
      "    \"description\": \"Falcon 9 is a two-stage rocket designed and manufactured by SpaceX for the reliable and safe transport of satellites and the Dragon spacecraft into orbit.\",\n",
      "    \"diameter\": {\n",
      "        \"feet\": 12,\n",
      "        \"meters\": 3.7\n",
      "    },\n",
      "    \"engines\": {\n",
      "        \"engine_loss_max\": 2,\n",
      "        \"layout\": \"octaweb\",\n",
      "        \"number\": 9,\n",
      "        \"propellant_1\": \"liquid oxygen\",\n",
      "        \"propellant_2\": \"RP-1 kerosene\",\n",
      "        \"thrust_sea_level\": {\n",
      "            \"kN\": 845,\n",
      "            \"lbf\": 190000\n",
      "        },\n",
      "        \"thrust_to_weight\": 180.1,\n",
      "        \"thrust_vacuum\": {\n",
      "            \"kN\": 914,\n",
      "            \"lbf\": 205500\n",
      "        },\n",
      "        \"type\": \"merlin\",\n",
      "        \"version\": \"1D+\"\n",
      "    },\n",
      "    \"first_flight\": \"2010-06-04\",\n",
      "    \"first_stage\": {\n",
      "        \"burn_time_sec\": 162,\n",
      "        \"engines\": 9,\n",
      "        \"fuel_amount_tons\": 385,\n",
      "        \"reusable\": true,\n",
      "        \"thrust_sea_level\": {\n",
      "            \"kN\": 7607,\n",
      "            \"lbf\": 1710000\n",
      "        },\n",
      "        \"thrust_vacuum\": {\n",
      "            \"kN\": 8227,\n",
      "            \"lbf\": 1849500\n",
      "        }\n",
      "    },\n",
      "    \"flickr_images\": [\n",
      "        \"https://farm1.staticflickr.com/929/28787338307_3453a11a77_b.jpg\",\n",
      "        \"https://farm4.staticflickr.com/3955/32915197674_eee74d81bb_b.jpg\",\n",
      "        \"https://farm1.staticflickr.com/293/32312415025_6841e30bf1_b.jpg\",\n",
      "        \"https://farm1.staticflickr.com/623/23660653516_5b6cb301d1_b.jpg\",\n",
      "        \"https://farm6.staticflickr.com/5518/31579784413_d853331601_b.jpg\",\n",
      "        \"https://farm1.staticflickr.com/745/32394687645_a9c54a34ef_b.jpg\"\n",
      "    ],\n",
      "    \"height\": {\n",
      "        \"feet\": 229.6,\n",
      "        \"meters\": 70\n",
      "    },\n",
      "    \"id\": 2,\n",
      "    \"landing_legs\": {\n",
      "        \"material\": \"carbon fiber\",\n",
      "        \"number\": 4\n",
      "    },\n",
      "    \"mass\": {\n",
      "        \"kg\": 549054,\n",
      "        \"lb\": 1207920\n",
      "    },\n",
      "    \"payload_weights\": [\n",
      "        {\n",
      "            \"id\": \"leo\",\n",
      "            \"kg\": 22800,\n",
      "            \"lb\": 50265,\n",
      "            \"name\": \"Low Earth Orbit\"\n",
      "        },\n",
      "        {\n",
      "            \"id\": \"gto\",\n",
      "            \"kg\": 8300,\n",
      "            \"lb\": 18300,\n",
      "            \"name\": \"Geosynchronous Transfer Orbit\"\n",
      "        },\n",
      "        {\n",
      "            \"id\": \"mars\",\n",
      "            \"kg\": 4020,\n",
      "            \"lb\": 8860,\n",
      "            \"name\": \"Mars Orbit\"\n",
      "        }\n",
      "    ],\n",
      "    \"rocket_id\": \"falcon9\",\n",
      "    \"rocket_name\": \"Falcon 9\",\n",
      "    \"rocket_type\": \"rocket\",\n",
      "    \"second_stage\": {\n",
      "        \"burn_time_sec\": 397,\n",
      "        \"engines\": 1,\n",
      "        \"fuel_amount_tons\": 90,\n",
      "        \"payloads\": {\n",
      "            \"composite_fairing\": {\n",
      "                \"diameter\": {\n",
      "                    \"feet\": 17.1,\n",
      "                    \"meters\": 5.2\n",
      "                },\n",
      "                \"height\": {\n",
      "                    \"feet\": 43,\n",
      "                    \"meters\": 13.1\n",
      "                }\n",
      "            },\n",
      "            \"option_1\": \"dragon\",\n",
      "            \"option_2\": \"composite fairing\"\n",
      "        },\n",
      "        \"reusable\": false,\n",
      "        \"thrust\": {\n",
      "            \"kN\": 934,\n",
      "            \"lbf\": 210000\n",
      "        }\n",
      "    },\n",
      "    \"stages\": 2,\n",
      "    \"success_rate_pct\": 97,\n",
      "    \"wikipedia\": \"https://en.wikipedia.org/wiki/Falcon_9\"\n",
      "}\n"
     ]
    }
   ],
   "source": [
    "print(json.dumps(response_json, indent=4, sort_keys=True))"
   ]
  },
  {
   "cell_type": "markdown",
   "metadata": {},
   "source": [
    "#### Since we are now working with a dictionary, it is possible to grab a specific value from within the JSON object"
   ]
  },
  {
   "cell_type": "code",
   "execution_count": 28,
   "metadata": {
    "collapsed": false
   },
   "outputs": [
    {
     "name": "stdout",
     "output_type": "stream",
     "text": [
      "[{'id': 'leo', 'name': 'Low Earth Orbit', 'kg': 22800, 'lb': 50265}, {'id': 'gto', 'name': 'Geosynchronous Transfer Orbit', 'kg': 8300, 'lb': 18300}, {'id': 'mars', 'name': 'Mars Orbit', 'kg': 4020, 'lb': 8860}]\n"
     ]
    }
   ],
   "source": [
    "print(response_json[\"payload_weights\"])"
   ]
  },
  {
   "cell_type": "markdown",
   "metadata": {},
   "source": [
    "#### It is also possible to perform some analyses on values stored within the JSON object"
   ]
  },
  {
   "cell_type": "code",
   "execution_count": 29,
   "metadata": {
    "collapsed": false
   },
   "outputs": [
    {
     "name": "stdout",
     "output_type": "stream",
     "text": [
      "There are 3 payloads.\n"
     ]
    }
   ],
   "source": [
    "number_payloads = len(response_json[\"payload_weights\"])\n",
    "print(f\"There are {number_payloads} payloads.\")"
   ]
  },
  {
   "cell_type": "markdown",
   "metadata": {},
   "source": [
    "#### Finally, it's possible to reference the values stored within sub-dictionaries and sub-lists\n",
    "\n",
    "In the example below, we're querying the **dictionary** where the key is `payload_weights`. The value for this key is a list of more dictionaries. We're then asking for the first (index 0) item in that list, and then asking for the value for the \"`kg`\" key. See below for the `payload_weights` dictionary. Use this to trace the code below to the value that we're retrieving.\n",
    "\n",
    "`\"payload_weights\": [\n",
    "        {\n",
    "            \"id\": \"leo\",\n",
    "            \"kg\": 22800,\n",
    "            \"lb\": 50265,\n",
    "            \"name\": \"Low Earth Orbit\"\n",
    "        },\n",
    "        {\n",
    "            \"id\": \"gto\",\n",
    "            \"kg\": 8300,\n",
    "            \"lb\": 18300,\n",
    "            \"name\": \"Geosynchronous Transfer Orbit\"\n",
    "        },\n",
    "        {\n",
    "            \"id\": \"mars\",\n",
    "            \"kg\": 4020,\n",
    "            \"lb\": 8860,\n",
    "            \"name\": \"Mars Orbit\"\n",
    "        }\n",
    "    ]`"
   ]
  },
  {
   "cell_type": "code",
   "execution_count": 30,
   "metadata": {
    "collapsed": false
   },
   "outputs": [
    {
     "name": "stdout",
     "output_type": "stream",
     "text": [
      "The first payload weighed 22800 Kilograms\n"
     ]
    }
   ],
   "source": [
    "payload_weight = response_json[\"payload_weights\"][0][\"kg\"]\n",
    "print(f\"The first payload weighed {payload_weight} Kilograms\")"
   ]
  },
  {
   "cell_type": "code",
   "execution_count": null,
   "metadata": {},
   "outputs": [],
   "source": []
  }
 ],
 "metadata": {
  "kernelspec": {
   "display_name": "RicePythonData",
   "language": "python",
   "name": "ricepythondata"
  },
  "language_info": {
   "codemirror_mode": {
    "name": "ipython",
    "version": 3
   },
   "file_extension": ".py",
   "mimetype": "text/x-python",
   "name": "python",
   "nbconvert_exporter": "python",
   "pygments_lexer": "ipython3",
   "version": "3.7.1"
  },
  "varInspector": {
   "cols": {
    "lenName": 16,
    "lenType": 16,
    "lenVar": 40
   },
   "kernels_config": {
    "python": {
     "delete_cmd_postfix": "",
     "delete_cmd_prefix": "del ",
     "library": "var_list.py",
     "varRefreshCmd": "print(var_dic_list())"
    },
    "r": {
     "delete_cmd_postfix": ") ",
     "delete_cmd_prefix": "rm(",
     "library": "var_list.r",
     "varRefreshCmd": "cat(var_dic_list()) "
    }
   },
   "types_to_exclude": [
    "module",
    "function",
    "builtin_function_or_method",
    "instance",
    "_Feature"
   ],
   "window_display": false
  }
 },
 "nbformat": 4,
 "nbformat_minor": 2
}

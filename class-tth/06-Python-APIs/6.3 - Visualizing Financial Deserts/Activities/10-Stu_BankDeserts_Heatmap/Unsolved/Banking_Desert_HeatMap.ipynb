{
 "cells": [
  {
   "cell_type": "markdown",
   "metadata": {},
   "source": [
    "# Banking Deserts and Unemployment\n",
    "\n",
    "In this activity your broad task is to answer the question: \"Is there a relationship between poverty, age, and population with the number of banks in a given area?\" To help accomplish this task, you've been given census data and a count of the financial institutions within 700 randomly selected zip codes across the country. We'll use this data to create layered maps using GMaps to see if we can visualize a relationship.\n",
    "\n",
    "[Atlantic article discussing topic](https://www.theatlantic.com/business/archive/2016/03/banking-desert-ny-fed/473436/)\n",
    "\n",
    "---\n",
    "\n",
    "### Instructions\n",
    "\n",
    "* Using [zip_bank_data.csv](../Resources/zip_bank_data.csv) and your new knowledge of the US Census API, add a column for `Unemployment Rate` to the csv.\n",
    "\n",
    "* Using `gmap` create the following three figures:\n",
    "\n",
    "  * A map with a `heatmap_layer` of the poverty rate for each city.\n",
    "  \n",
    "    <img src=\"../Images/heatmap.png\" width=30%></img>\n",
    "\n",
    "  * A map with a `symbol_layer` for the number of banks located at that city.\n",
    "  \n",
    "    <img src=\"../Images/bank_map.png\" width=30%></img>\n",
    "\n",
    "  * A map that includes both the poverty `heatmap_layer` and the bank `symbol_layer`.\n",
    "  \n",
    "    <img src=\"../Images/final_map.png\" width=30%></img>\n",
    "    \n",
    "### Documentation\n",
    "\n",
    "##### [GMaps tutorials and examples](https://jupyter-gmaps.readthedocs.io/en/latest/tutorial.html#getting-started)\n",
    "##### [GMaps API docs for functions and parameter descriptions](https://jupyter-gmaps.readthedocs.io/en/latest/api.html)\n",
    "\n",
    "### Hints\n",
    "\n",
    "* Test your code with only 5-10 cities at a time while debugging your code.\n",
    "\n",
    "* For reference, use the docs for the [layers](http://jupyter-gmaps.readthedocs.io/en/latest/api.html#figures-and-layers) and as a [refresher](http://jupyter-gmaps.readthedocs.io/en/latest/tutorial.html) for setting up the maps.\n",
    "\n",
    "* Be sure to handle zoom on the heat map.\n",
    "\n",
    "* At this point, you should not need to perform any new requests to Google's APIs.\n",
    "\n",
    "* To format the info boxes on your symbol_layer, look to use string formatting with list comprehension.\n",
    "\n",
    "---"
   ]
  },
  {
   "cell_type": "code",
   "execution_count": null,
   "metadata": {},
   "outputs": [],
   "source": [
    "# Dependencies\n",
    "from census import Census\n",
    "import gmaps\n",
    "import pandas as pd\n",
    "\n",
    "# import API keys\n",
    "from config import (census_key, gkey)\n",
    "\n",
    "# Census API Key\n",
    "c = Census(census_key, year=2013)"
   ]
  },
  {
   "cell_type": "markdown",
   "metadata": {},
   "source": [
    "## Data Retrieval\n",
    "\n",
    "#### Documentation\n",
    "* [Census API wrapper documentation](https://github.com/CommerceDataService/census-wrapper)\n",
    "* [Available Census fields and labels](https://gist.github.com/afhaque/60558290d6efd892351c4b64e5c01e9b)"
   ]
  },
  {
   "cell_type": "code",
   "execution_count": null,
   "metadata": {},
   "outputs": [],
   "source": [
    "# Run Census Search to retrieve data on all zip codes (2013 ACS5 Census)\n",
    "census_data = c.acs5.get((\"B01003_001E\", \"B23025_005E\"), {\n",
    "                         'for': 'zip code tabulation area:*'})\n",
    "\n",
    "# Convert to DataFrame\n",
    "unemployment_df = pd.DataFrame(census_data)\n",
    "\n",
    "# Column Renaming\n",
    "unemployment_df = unemployment_df.rename(columns={\"B01003_001E\": \"Population\",\n",
    "                                      \"zip code tabulation area\": \"Zipcode\",\n",
    "                                      \"B23025_005E\": \"Unemployment Count\"})\n",
    "\n",
    "unemployment_df.head()"
   ]
  },
  {
   "cell_type": "markdown",
   "metadata": {},
   "source": [
    "## Calculate the `Unemployment Rate` and add it as a new column to the DataFrame\n",
    "\n",
    "$$ Unemployment Rate = \\frac{Unemployment Count}{Population} $$"
   ]
  },
  {
   "cell_type": "code",
   "execution_count": null,
   "metadata": {},
   "outputs": [],
   "source": [
    "# Create an Unemployment Rate column that is calculated using Unemployment Count and Population\n",
    "\n",
    "\n",
    "# Create the final DataFrame with only columns for Zipcode and Unemployment Rate (in that order)\n",
    "\n",
    "\n",
    "# View final DataFrame\n",
    "print(\"Number of zip codes in data: \" + str(len(unemployment_df)))\n",
    "unemployment_df.head()"
   ]
  },
  {
   "cell_type": "markdown",
   "metadata": {},
   "source": [
    "## Load *zip_bank_data.csv* into a DataFrame\n",
    "\n",
    "* This file contains rows for 700 randomly selected zip codes from across the county.\n",
    "* The available columns reflect the same demographic data that we pull from census in a previous exercise, but we've also included: **`Bank Count`**, **`Lat`**, and **`Lng`**."
   ]
  },
  {
   "cell_type": "code",
   "execution_count": null,
   "metadata": {},
   "outputs": [],
   "source": [
    "# Read demographic and bank data from CSV\n",
    "demo_df = pd.read_csv(\"../Resources/zip_bank_data.csv\", encoding=\"utf-8\")\n",
    "\n",
    "# Visualize\n",
    "demo_df.head()"
   ]
  },
  {
   "cell_type": "markdown",
   "metadata": {},
   "source": [
    "## Merge the two data sets along zip code\n",
    "\n",
    "#### HINTS\n",
    "* When thinking about the type of merge/join to use, think about this: *We want to keep all of the data from the master DataFrame, but we only need the unemployment rate for the 700 randomly selected zip codes.*\n",
    "* Refer to the [first exercise from Lesson 4.3](https://rice.bootcampcontent.com/Rice-Coding-Bootcamp/RICEHOU201811DATA2/blob/master/class-tth/04-Pandas/4.3%20-%20Data%20Parsing%20with%20Pandas/Activities/01-Ins_Merging/Solved/Merging.ipynb) to review how merges/joins work. "
   ]
  },
  {
   "cell_type": "code",
   "execution_count": null,
   "metadata": {},
   "outputs": [],
   "source": [
    "# When merging 2 DataFrames, the merge column must be of the same datatype in both DataFrames\n",
    "# The census API returned the Zipcode column as an object, so we should convert it  to an int first\n",
    "\n",
    "\n",
    "\n",
    "\n",
    "print(\"Do the Zipcode dtypes match?: \" + str(unemployment_df['Zipcode'].dtype == demo_df['Zipcode'].dtype))"
   ]
  },
  {
   "cell_type": "code",
   "execution_count": null,
   "metadata": {},
   "outputs": [],
   "source": [
    "# Merge the master and unemployment DataFrames on the Zipcode column\n",
    "\n",
    "\n",
    "\n",
    "# Visualize\n",
    "final_demo_df.head()"
   ]
  },
  {
   "cell_type": "markdown",
   "metadata": {},
   "source": [
    "## Create a Heatmap of poverty rate"
   ]
  },
  {
   "cell_type": "markdown",
   "metadata": {},
   "source": [
    "#### Configure gmaps with API key"
   ]
  },
  {
   "cell_type": "code",
   "execution_count": null,
   "metadata": {},
   "outputs": [],
   "source": [
    "gmaps.configure(api_key=gkey)"
   ]
  },
  {
   "cell_type": "markdown",
   "metadata": {},
   "source": [
    "#### Create a new variable to contain `Lat` and `Lng` and another new variable to contain the `Poverty Rate`"
   ]
  },
  {
   "cell_type": "code",
   "execution_count": null,
   "metadata": {},
   "outputs": [],
   "source": [
    "# Store 'Lat' and 'Lng' into a variable called 'locations'\n",
    "\n",
    "\n",
    "\n",
    "# Store 'Poverty Rate' in a variable called 'poverty_rate'\n",
    "\n",
    "\n"
   ]
  },
  {
   "cell_type": "markdown",
   "metadata": {},
   "source": [
    "#### Create a poverty Heatmap layer"
   ]
  },
  {
   "cell_type": "code",
   "execution_count": null,
   "metadata": {},
   "outputs": [],
   "source": [
    "# Create the mapping figure\n",
    "\n",
    "\n",
    "\n",
    "# Create the heatmap layer using locations and poverty_rate\n",
    "\n",
    "\n",
    "\n",
    "# Add heatmap layer to figure\n",
    "\n",
    "\n",
    "\n",
    "# Display the figure\n",
    "\n",
    "\n"
   ]
  },
  {
   "cell_type": "markdown",
   "metadata": {},
   "source": [
    "## Create a map of the number of banks\n",
    "\n",
    "To plot the bank count, we'll use a `symbol_layer`. A `symbol_layer` allows us to edit the look of the data point on the map. \n",
    "\n",
    "Using this type of layer, we'll use the number of banks for a particular zip code to increase/decrease the transparency of the data point (more banks = darker point). To do this, we need to rescale the number of banks down to a range of 0 to 1. By doing this, we maintain the distribution of the data, \n",
    "\n",
    "[Symbol layer documentation](https://jupyter-gmaps.readthedocs.io/en/latest/tutorial.html#markers-and-symbols)"
   ]
  },
  {
   "cell_type": "code",
   "execution_count": null,
   "metadata": {},
   "outputs": [],
   "source": [
    "# Create a variable to store the bank count\n",
    "bank_count = final_demo_df[\"Bank Count\"]\n",
    "\n",
    "# Normalize the bank counts from 0 to 1 and store that in a new variable\n",
    "norm_count = (bank_count - min(bank_count)) / (max(bank_count) - min(bank_count))\n",
    "\n",
    "# view the distribution of normalized bank counts\n",
    "norm_count.hist()"
   ]
  },
  {
   "cell_type": "code",
   "execution_count": null,
   "metadata": {},
   "outputs": [],
   "source": [
    "# Create bank symbol layer\n",
    "\n",
    "\n",
    "\n",
    "# Create a mapping figure\n",
    "\n",
    "\n",
    "\n",
    "# Add the layer to the figure\n",
    "\n",
    "\n",
    "\n",
    "# Display the figure\n",
    "\n",
    "\n"
   ]
  },
  {
   "cell_type": "markdown",
   "metadata": {},
   "source": [
    "## Create a map that combines both layers\n",
    "\n",
    "#### Hint\n",
    "* You do not need to recreate the layers. Try adding the ones that you've already created to a new figure."
   ]
  },
  {
   "cell_type": "code",
   "execution_count": null,
   "metadata": {},
   "outputs": [],
   "source": [
    "# Create and display a map with both layers created above\n"
   ]
  },
  {
   "cell_type": "code",
   "execution_count": null,
   "metadata": {},
   "outputs": [],
   "source": []
  }
 ],
 "metadata": {
  "kernelspec": {
   "display_name": "RicePythonData",
   "language": "python",
   "name": "ricepythondata"
  },
  "language_info": {
   "codemirror_mode": {
    "name": "ipython",
    "version": 3
   },
   "file_extension": ".py",
   "mimetype": "text/x-python",
   "name": "python",
   "nbconvert_exporter": "python",
   "pygments_lexer": "ipython3",
   "version": "3.7.1"
  }
 },
 "nbformat": 4,
 "nbformat_minor": 2
}

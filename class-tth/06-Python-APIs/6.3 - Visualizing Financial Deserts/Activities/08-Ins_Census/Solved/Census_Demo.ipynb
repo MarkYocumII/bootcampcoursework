{
 "cells": [
  {
   "cell_type": "markdown",
   "metadata": {},
   "source": [
    "# US Census API\n",
    "\n",
    "### Requirements\n",
    "* install the `census` module and the `us` module before getting started. To do this, run the following commands from the command line: \n",
    "    * **`pip install census`**\n",
    "    * **`pip install us`**\n",
    "\n",
    "### Documentation\n",
    "* [Python wrapper for census API](https://github.com/datamade/census)\n",
    "* [List of available fields and labels](https://gist.github.com/afhaque/60558290d6efd892351c4b64e5c01e9b)"
   ]
  },
  {
   "cell_type": "markdown",
   "metadata": {},
   "source": [
    "### Import dependencies"
   ]
  },
  {
   "cell_type": "code",
   "execution_count": null,
   "metadata": {
    "collapsed": true
   },
   "outputs": [],
   "source": [
    "import pandas as pd\n",
    "from census import Census #<-- Python wrapper for census API\n",
    "\n",
    "# Census API Key\n",
    "from config import api_key\n",
    "\n",
    "# provide the api key and the year to establish a session\n",
    "c = Census(api_key, year=2013)"
   ]
  },
  {
   "cell_type": "markdown",
   "metadata": {},
   "source": [
    "### Run Census Search to retrieve data on all zip codes (2013 ACS5 Census)\n",
    "\n",
    "There are a number of convenient methods that the wrapper provides, but the standard function requires a tuple of field IDs that you're interested in, and a geographic reference stored in a dictionary as seen below. In this code, we're saying we want data for these 6 fields for ALL zip codes\n",
    "\n",
    "**NOTE:** We're using the `acs5` function set to pull our data from the 5-year American Consumer Survey."
   ]
  },
  {
   "cell_type": "code",
   "execution_count": null,
   "metadata": {},
   "outputs": [],
   "source": [
    "census_data = c.acs5.get((\"NAME\", \"B19013_001E\", \"B01003_001E\", \"B01002_001E\", \"B19301_001E\", \"B17001_002E\"), {'for': 'zip code tabulation area:*'})\n",
    "\n",
    "census_data[0]"
   ]
  },
  {
   "cell_type": "markdown",
   "metadata": {},
   "source": [
    "### Format the response"
   ]
  },
  {
   "cell_type": "code",
   "execution_count": null,
   "metadata": {},
   "outputs": [],
   "source": [
    "# Convert to DataFrame\n",
    "census_pd = pd.DataFrame(census_data)\n",
    "\n",
    "# Renaming columns to be more user-friendly\n",
    "census_pd = census_pd.rename(columns={\"B01003_001E\": \"Population\",\n",
    "                                      \"B01002_001E\": \"Median Age\",\n",
    "                                      \"B19013_001E\": \"Household Income\",\n",
    "                                      \"B19301_001E\": \"Per Capita Income\",\n",
    "                                      \"B17001_002E\": \"Poverty Count\",\n",
    "                                      \"NAME\": \"Name\", \"zip code tabulation area\": \"Zipcode\"})\n",
    "\n",
    "# Since Census doesn't provide the poverty rate, we can divide Poverty Count by Population to calculate it ourselves\n",
    "census_pd[\"Poverty Rate\"] = 100 * census_pd[\"Poverty Count\"].astype(int) / census_pd[\"Population\"].astype(int)\n",
    "\n",
    "# Reorder columns and only include ones we're interested in for the final DataFrame\n",
    "census_pd = census_pd[[\"Zipcode\", \"Population\", \"Median Age\", \"Household Income\",\n",
    "                       \"Per Capita Income\", \"Poverty Rate\"]]\n",
    "\n",
    "# Visualize\n",
    "print(\"Total number of zip codes in response: \" + str(len(census_pd)))\n",
    "census_pd.head()"
   ]
  },
  {
   "cell_type": "markdown",
   "metadata": {},
   "source": [
    "### Save to a CSV"
   ]
  },
  {
   "cell_type": "code",
   "execution_count": null,
   "metadata": {
    "collapsed": true
   },
   "outputs": [],
   "source": [
    "census_pd.to_csv(\"census_data.csv\", encoding=\"utf-8\", index=False)"
   ]
  },
  {
   "cell_type": "code",
   "execution_count": null,
   "metadata": {},
   "outputs": [],
   "source": []
  }
 ],
 "metadata": {
  "anaconda-cloud": {},
  "kernelspec": {
   "display_name": "RicePythonData",
   "language": "python",
   "name": "ricepythondata"
  },
  "language_info": {
   "codemirror_mode": {
    "name": "ipython",
    "version": 3
   },
   "file_extension": ".py",
   "mimetype": "text/x-python",
   "name": "python",
   "nbconvert_exporter": "python",
   "pygments_lexer": "ipython3",
   "version": "3.7.1"
  }
 },
 "nbformat": 4,
 "nbformat_minor": 2
}

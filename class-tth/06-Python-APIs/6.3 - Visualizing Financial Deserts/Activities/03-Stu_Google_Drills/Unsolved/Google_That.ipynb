{
 "cells": [
  {
   "cell_type": "markdown",
   "metadata": {},
   "source": [
    "# Google Drills\n",
    "\n",
    "In this activity we will perform API calls to the Google Places and Google Maps API.\n",
    "\n",
    "## Instructions\n",
    "\n",
    "* Complete each of the six drills articulated in the code provided. \n",
    "* Feel encouraged to look back at the previous examples but know that you will have to consult the Google API documentation.\n",
    "\n",
    "### Hints\n",
    "\n",
    "* **You will need multiple target URLs and multiple API requests.**\n",
    "\n",
    "* See the [Google Geocoding Documentation](https://developers.google.com/maps/documentation/geocoding/intro)\n",
    "\n",
    "* See the [Google Places Documentation](https://developers.google.com/maps/documentation/javascript/places#place_search_requests)\n",
    "\n",
    "* See the [Capping Queries](../../../Supplemental/Capping_Queries.md) document to set usage limits on your API calls.\n"
   ]
  },
  {
   "cell_type": "code",
   "execution_count": null,
   "metadata": {},
   "outputs": [],
   "source": [
    "# Dependencies\n",
    "import requests\n",
    "from pprint import pprint\n",
    "\n",
    "# Google API Key\n",
    "from config import gkey"
   ]
  },
  {
   "cell_type": "markdown",
   "metadata": {},
   "source": [
    "### 1. What are the geocoordinates (latitude and longitude) of Seattle, Washington?\n",
    "\n",
    "**HINT:** the `address` attribute can also accept _city, state_ as an address as well."
   ]
  },
  {
   "cell_type": "code",
   "execution_count": null,
   "metadata": {},
   "outputs": [],
   "source": [
    "# store the city that we're searching for in a variable\n",
    "\n",
    "\n",
    "# create a dictionary to contain the query parameters\n",
    "\n",
    "\n",
    "# Build URL using the Google Maps Geocode API\n",
    "\n",
    "\n",
    "# Execute request using the URL and dictionary containing query parameters\n",
    "\n",
    "\n",
    "# Convert the response to json\n",
    "\n",
    "\n",
    "# Extract lat/lng from the json response\n",
    "\n",
    "\n",
    "# Print results\n",
    "\n"
   ]
  },
  {
   "cell_type": "markdown",
   "metadata": {},
   "source": [
    "### 2. What are the geocoordinates (latitude and longitude) of The White House?\n",
    "**HINT:** the `address` attribute can also accept specific location references as an address as well."
   ]
  },
  {
   "cell_type": "code",
   "execution_count": null,
   "metadata": {},
   "outputs": [],
   "source": []
  },
  {
   "cell_type": "markdown",
   "metadata": {},
   "source": [
    "### 3. Find the name and address of a bike store in Seattle, Washington.\n",
    "\n",
    "#### HINTS\n",
    "* A different URL will be used than the previous questions\n",
    "* See the [supported location types](https://developers.google.com/places/web-service/supported_types)\n",
    "* Copy the coordinates from your output of Question #1 to use as your `location` parameter\n",
    "* Ideally, you should define a `radius` **OR** a `rankby` parameter (not both) to ensure the bike store is within the bounds of the city"
   ]
  },
  {
   "cell_type": "code",
   "execution_count": null,
   "metadata": {},
   "outputs": [],
   "source": []
  },
  {
   "cell_type": "markdown",
   "metadata": {},
   "source": [
    "### 4. Find a balloon store near the White House.\n",
    "\n",
    "#### HINTS\n",
    "* Copy the coordinates from your output of Question #2 to use as your `location` parameter\n",
    "* Since *balloon_store* is **not** one of the API's [supported types](https://developers.google.com/places/web-service/supported_types), you'll need to search using a keyword"
   ]
  },
  {
   "cell_type": "code",
   "execution_count": null,
   "metadata": {},
   "outputs": [],
   "source": []
  },
  {
   "cell_type": "markdown",
   "metadata": {},
   "source": [
    "### 5. Find the nearest dentist to your house.\n",
    "\n",
    "#### HINTS \n",
    "* Use Google Maps _Geocode_ API to find your geocoordinates, and then use Google Places to find the dentist. \n",
    "* You may also need the `rankby` property.\n",
    "* See the [supported location types](https://developers.google.com/places/web-service/supported_types)"
   ]
  },
  {
   "cell_type": "code",
   "execution_count": null,
   "metadata": {},
   "outputs": [],
   "source": [
    "##### FIRST, USE THE GEOCODE API TO FIND YOUR COORDINATES\n",
    "\n"
   ]
  },
  {
   "cell_type": "code",
   "execution_count": null,
   "metadata": {},
   "outputs": [],
   "source": [
    "#### SECOND, USE THE RESULTING LAT/LONG TO QUERY THE PLACES API TO FIND THE NEAREST DENTIST\n",
    "\n"
   ]
  },
  {
   "cell_type": "markdown",
   "metadata": {},
   "source": [
    "### 6. Bonus: Find the names and addresses of the first five restaurants listed in your home city.\n",
    "#### HINTS\n",
    "* Read about \"Text Search Results\" (https://developers.google.com/places/web-service/search#TextSearchRequests)\n",
    "* You do **not** need to sort by rating or any other attribute. Use your search text to specify that you want the best restaurants similar to how you would when using Google."
   ]
  },
  {
   "cell_type": "code",
   "execution_count": null,
   "metadata": {},
   "outputs": [],
   "source": []
  }
 ],
 "metadata": {
  "kernelspec": {
   "display_name": "RicePythonData",
   "language": "python",
   "name": "ricepythondata"
  },
  "language_info": {
   "codemirror_mode": {
    "name": "ipython",
    "version": 3
   },
   "file_extension": ".py",
   "mimetype": "text/x-python",
   "name": "python",
   "nbconvert_exporter": "python",
   "pygments_lexer": "ipython3",
   "version": "3.7.1"
  }
 },
 "nbformat": 4,
 "nbformat_minor": 2
}

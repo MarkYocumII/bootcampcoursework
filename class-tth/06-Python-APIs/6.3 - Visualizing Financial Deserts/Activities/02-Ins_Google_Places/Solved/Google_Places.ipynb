{
 "cells": [
  {
   "cell_type": "markdown",
   "metadata": {},
   "source": [
    "# Google Places API\n",
    "\n",
    "### [Places API Docs](https://developers.google.com/places/web-service/search)"
   ]
  },
  {
   "cell_type": "markdown",
   "metadata": {},
   "source": [
    "#### Import dependencies"
   ]
  },
  {
   "cell_type": "code",
   "execution_count": null,
   "metadata": {},
   "outputs": [],
   "source": [
    "import requests\n",
    "from pprint import pprint\n",
    "\n",
    "# Google developer API key\n",
    "from config import gkey"
   ]
  },
  {
   "cell_type": "markdown",
   "metadata": {},
   "source": [
    "#### Establish configuration variables\n",
    "\n",
    "[Places API docs for Nearby searches](https://developers.google.com/places/web-service/search#PlaceSearchRequests)"
   ]
  },
  {
   "cell_type": "code",
   "execution_count": null,
   "metadata": {},
   "outputs": [],
   "source": [
    "# geocoordinates for the base of our search\n",
    "target_location = \"29.714033,-95.406480\" # coordinates for Rice University\n",
    "\n",
    "\n",
    "# keyword term to be matched against all of Google's indexed content\n",
    "target_keyword = \"Chinese\"\n",
    "\n",
    "\n",
    "# distance, IN METERS, within which the place results must live\n",
    "target_radius = 4000\n",
    "\n",
    "\n",
    "# type of establishment that we'd like to use to filter our place results\n",
    "# docs for acceptable place types: https://developers.google.com/places/web-service/supported_types\n",
    "target_type = \"restaurant\""
   ]
  },
  {
   "cell_type": "markdown",
   "metadata": {},
   "source": [
    "#### Execute API request using a dictionary to contain query parameters\n",
    "\n",
    "* Notice that we're using a different base URL when searching for nearby **places**.\n",
    "* **NOTE:** According to the documentation, when defining a `radius`, we cannot define a `rankby` parameter, which means that Google's mysterious _prominence_ algorithm will rank your results."
   ]
  },
  {
   "cell_type": "code",
   "execution_count": null,
   "metadata": {},
   "outputs": [],
   "source": [
    "# set up a dictionary to store all query parameters\n",
    "params = {\n",
    "    \"location\": target_location,\n",
    "    \"keyword\": target_keyword,\n",
    "    \"radius\": target_radius,\n",
    "#     \"rankby\": \"distance\",\n",
    "    \"type\": target_type,\n",
    "    \"key\": gkey\n",
    "}\n",
    "\n",
    "# base url\n",
    "base_url = \"https://maps.googleapis.com/maps/api/place/nearbysearch/json\"\n",
    "\n",
    "# run a request using our params dictionary\n",
    "response = requests.get(base_url, params=params)"
   ]
  },
  {
   "cell_type": "markdown",
   "metadata": {},
   "source": [
    "#### Display URL to familiarize with the output format"
   ]
  },
  {
   "cell_type": "code",
   "execution_count": null,
   "metadata": {},
   "outputs": [],
   "source": [
    "# print the response url, avoid doing for public github repos in order to avoid exposing key\n",
    "print(response.url)"
   ]
  },
  {
   "cell_type": "markdown",
   "metadata": {},
   "source": [
    "#### Pretty print the response"
   ]
  },
  {
   "cell_type": "code",
   "execution_count": null,
   "metadata": {},
   "outputs": [],
   "source": [
    "# convert the response to json\n",
    "response_json = response.json()\n",
    "\n",
    "pprint(response_json)"
   ]
  },
  {
   "cell_type": "markdown",
   "metadata": {},
   "source": [
    "#### Print the name and address of the first restaurant that appears"
   ]
  },
  {
   "cell_type": "code",
   "execution_count": null,
   "metadata": {},
   "outputs": [],
   "source": [
    "print(response_json['results'][0]['name'])\n",
    "print(response_json['results'][0]['rating'])\n",
    "print(response_json['results'][0]['vicinity'])"
   ]
  },
  {
   "cell_type": "code",
   "execution_count": null,
   "metadata": {},
   "outputs": [],
   "source": []
  }
 ],
 "metadata": {
  "kernelspec": {
   "display_name": "RicePythonData",
   "language": "python",
   "name": "ricepythondata"
  },
  "language_info": {
   "codemirror_mode": {
    "name": "ipython",
    "version": 3
   },
   "file_extension": ".py",
   "mimetype": "text/x-python",
   "name": "python",
   "nbconvert_exporter": "python",
   "pygments_lexer": "ipython3",
   "version": "3.7.1"
  }
 },
 "nbformat": 4,
 "nbformat_minor": 2
}

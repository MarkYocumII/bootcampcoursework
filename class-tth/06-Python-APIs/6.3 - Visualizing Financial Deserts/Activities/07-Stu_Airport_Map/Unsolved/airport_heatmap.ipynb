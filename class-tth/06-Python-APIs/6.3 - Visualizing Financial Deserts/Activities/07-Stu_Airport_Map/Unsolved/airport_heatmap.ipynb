{
 "cells": [
  {
   "cell_type": "markdown",
   "metadata": {},
   "source": [
    "# Hot Airport Reviews\n",
    "\n",
    "## Requirements\n",
    "* __Maps JavaScript API__ must be enabled from within your [Google Developer's Console](https://console.developers.google.com/).\n",
    "* `gmaps` should be installed by shutting down jupyter, executing __`conda install -c conda-forge gmaps`__ from the command line, and then restarting jupyter\n",
    "\n",
    "\n",
    "## Instructions\n",
    "\n",
    "* Using the data provided in the airport CSV in the Resources folder, create a heat map of the airports across the country.\n",
    "  - Use the latitude and longitude to place the airport\n",
    "  - Use the rating to weight the heat map.\n",
    "  - Refer to the [gmaps documentation](http://jupyter-gmaps.readthedocs.io/en/latest/tutorial.html#heatmaps) for instructions on how to implement heatmaps.\n",
    "  \n",
    "## Hint\n",
    "\n",
    "* Be sure to handle `NaN` values and data type in your Airport Ratings.\n",
    "\n",
    "## Desired Output\n",
    "\n",
    "<center><img src='../Images/08-Airport_Heatmap.png' width=50%></img></center>\n",
    "\n",
    "## BONUS\n",
    "\n",
    "* GMaps offers 4 different base map types. Explore the [documentation](http://jupyter-gmaps.readthedocs.io/en/latest/tutorial.html#base-maps) and see if you can create two more plots using the same data as above, but with different map types."
   ]
  },
  {
   "cell_type": "markdown",
   "metadata": {},
   "source": [
    "### Import dependencies & configure gmaps with your API key"
   ]
  },
  {
   "cell_type": "code",
   "execution_count": null,
   "metadata": {},
   "outputs": [],
   "source": [
    "import gmaps\n",
    "import pandas as pd\n",
    "\n",
    "# Google developer API key\n",
    "from config import gkey\n",
    "\n",
    "# Configure gmaps\n",
    "gmaps.configure(api_key=gkey)"
   ]
  },
  {
   "cell_type": "markdown",
   "metadata": {},
   "source": [
    "### Read the Airport csv into a pandas DataFrame and drop any rows with null values\n",
    "\n",
    "Unless you moved the files around, this should be the path to the CSV:\n",
    "* `../Resources/Airport_Output.csv`"
   ]
  },
  {
   "cell_type": "code",
   "execution_count": null,
   "metadata": {},
   "outputs": [],
   "source": [
    "# Read CSV containing airports into a DataFrame\n",
    "\n",
    "# drop any rows containing at least 1 null value\n"
   ]
  },
  {
   "cell_type": "markdown",
   "metadata": {},
   "source": [
    "### Create a weighted heatmap (See the instructions at the top of this notebook for a screenshot of the desired output)\n",
    "\n",
    "* Refer to the [gmaps documentation](https://jupyter-gmaps.readthedocs.io/en/latest/tutorial.html#weighted-heatmaps) for instructions on how to implement weighted heatmaps.\n",
    "* Your data's `Lat` and `Lng` columns should be used for your coordinates and use the `Airport Rating` column for the weights."
   ]
  },
  {
   "cell_type": "code",
   "execution_count": null,
   "metadata": {},
   "outputs": [],
   "source": [
    "# create the mapping figure\n",
    "\n",
    "\n",
    "# create the heatmap layer\n",
    "\n",
    "\n",
    "# add the heatmap layer to the figure\n",
    "\n",
    "\n",
    "# display the figure\n"
   ]
  },
  {
   "cell_type": "markdown",
   "metadata": {},
   "source": [
    "# BONUS\n",
    "\n",
    "* GMaps offers 4 different base map types. Explore the [documentation](http://jupyter-gmaps.readthedocs.io/en/latest/tutorial.html#base-maps) and see if you can create two more plots using the same data as above, but with different map types."
   ]
  },
  {
   "cell_type": "code",
   "execution_count": null,
   "metadata": {},
   "outputs": [],
   "source": []
  }
 ],
 "metadata": {
  "kernelspec": {
   "display_name": "RicePythonData",
   "language": "python",
   "name": "ricepythondata"
  },
  "language_info": {
   "codemirror_mode": {
    "name": "ipython",
    "version": 3
   },
   "file_extension": ".py",
   "mimetype": "text/x-python",
   "name": "python",
   "nbconvert_exporter": "python",
   "pygments_lexer": "ipython3",
   "version": "3.7.1"
  }
 },
 "nbformat": 4,
 "nbformat_minor": 2
}

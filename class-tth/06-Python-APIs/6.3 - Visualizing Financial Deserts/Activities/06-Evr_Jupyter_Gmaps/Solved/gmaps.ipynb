{
 "cells": [
  {
   "cell_type": "markdown",
   "metadata": {},
   "source": [
    "# GMaps\n",
    "\n",
    "### Instructions for installing GMaps\n",
    "1. Navigate to the [Google API Console](https://console.developers.google.com/) to make sure that you have the `Maps JavaScript API` enabled.\n",
    "2. From the command line, execute: `conda install -c conda-forge gmaps`\n",
    "    - [Docs for installing `gmaps`](https://jupyter-gmaps.readthedocs.io/en/latest/install.html#)\n",
    "3. From the command line, run `CTRL+C`, then confirm the shutdown of jupyter.\n",
    "4. Restart jupyter.\n",
    "\n",
    "### Documentation\n",
    "\n",
    "##### [GMaps tutorials and examples](https://jupyter-gmaps.readthedocs.io/en/latest/tutorial.html#getting-started)\n",
    "##### [GMaps API docs for functions and parameter descriptions](https://jupyter-gmaps.readthedocs.io/en/latest/api.html)\n",
    "\n",
    "### Sample of resulting output:\n",
    "\n",
    "![07-Customized_Map.png](../Images/07-Customized_Map.png)\n"
   ]
  },
  {
   "cell_type": "markdown",
   "metadata": {},
   "source": [
    "### Import dependencies & configure gmaps with your API key"
   ]
  },
  {
   "cell_type": "code",
   "execution_count": null,
   "metadata": {},
   "outputs": [],
   "source": [
    "import gmaps\n",
    "\n",
    "# Google developer API key\n",
    "from config import gkey\n",
    "\n",
    "# Access maps with unique API key\n",
    "gmaps.configure(api_key=gkey)"
   ]
  },
  {
   "cell_type": "markdown",
   "metadata": {},
   "source": [
    "### Create a list of coordinate values to plot on our map\n",
    "\n",
    "The coordinates can be provided to gmaps in any of the following 3 formats:\n",
    "1. **list of tuples**, as in the example below,\n",
    "2. **dataframe with two columns**, or\n",
    "3. **NumPy array of shape Nx2**\n",
    "\n",
    "Latitude always needs to be the value on the left and Longitude on the right, or else your plot may place your datapoints in unintended locations."
   ]
  },
  {
   "cell_type": "code",
   "execution_count": null,
   "metadata": {},
   "outputs": [],
   "source": [
    "coordinates = [\n",
    "    (40.71, -74.00),\n",
    "    (30.26, -97.74),\n",
    "    (46.87, -96.78),\n",
    "    (47.60, -122.33),\n",
    "    (32.71, -117.16)\n",
    "]"
   ]
  },
  {
   "cell_type": "markdown",
   "metadata": {},
   "source": [
    "### Create the base mapping figure\n",
    "\n",
    "GMaps (and many other geospatial analysis tools) works using *layers*. In the cell below, we're just laying down the map's base layer (aka, the basemap)."
   ]
  },
  {
   "cell_type": "code",
   "execution_count": null,
   "metadata": {},
   "outputs": [],
   "source": [
    "# store the figure in a variable so we can continue to add layers to the same map\n",
    "fig = gmaps.figure()\n",
    "\n",
    "# display the figure\n",
    "fig"
   ]
  },
  {
   "cell_type": "markdown",
   "metadata": {},
   "source": [
    "### Add a new layer to the map to display markers for the coordinate points\n",
    "\n",
    "Here we're first creating a new layer using the coordinates that we defined, and then we're adding that layer to the figure we've created in the previous cell."
   ]
  },
  {
   "cell_type": "code",
   "execution_count": null,
   "metadata": {},
   "outputs": [],
   "source": [
    "# Create a marker layer using our coordinates\n",
    "markers = gmaps.marker_layer(coordinates)\n",
    "\n",
    "# Add the layer to the map\n",
    "fig.add_layer(markers)\n",
    "\n",
    "# display the figure with the newly added layer\n",
    "fig"
   ]
  },
  {
   "cell_type": "markdown",
   "metadata": {},
   "source": [
    "### Customize!\n",
    "\n",
    "There are numerous ways that you can customize your maps to tell your story. Below are just a few options for customizing your output."
   ]
  },
  {
   "cell_type": "code",
   "execution_count": null,
   "metadata": {},
   "outputs": [],
   "source": [
    "# Dictionary of style settings for the map\n",
    "figure_layout = {\n",
    "    'width': '550px',\n",
    "    'height': '400px',\n",
    "    'border': '3px solid black',\n",
    "    'padding': '1px',\n",
    "    'margin': '0 auto 0 auto'\n",
    "}\n",
    "\n",
    "# create a new figure using the custom styles above\n",
    "cust_fig = gmaps.figure(layout=figure_layout)\n",
    "\n",
    "# Add the marker layer using the coordinates\n",
    "cust_fig.add_layer(gmaps.marker_layer(coordinates))\n",
    "\n",
    "# Add a traffic layer\n",
    "cust_fig.add_layer(gmaps.traffic_layer())\n",
    "\n",
    "# Add a bicycling layer\n",
    "cust_fig.add_layer(gmaps.bicycling_layer())\n",
    "\n",
    "# Display the figure\n",
    "cust_fig"
   ]
  },
  {
   "cell_type": "code",
   "execution_count": null,
   "metadata": {},
   "outputs": [],
   "source": []
  }
 ],
 "metadata": {
  "kernelspec": {
   "display_name": "RicePythonData",
   "language": "python",
   "name": "ricepythondata"
  },
  "language_info": {
   "codemirror_mode": {
    "name": "ipython",
    "version": 3
   },
   "file_extension": ".py",
   "mimetype": "text/x-python",
   "name": "python",
   "nbconvert_exporter": "python",
   "pygments_lexer": "ipython3",
   "version": "3.7.1"
  }
 },
 "nbformat": 4,
 "nbformat_minor": 2
}

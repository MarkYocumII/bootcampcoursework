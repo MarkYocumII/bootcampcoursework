{
 "cells": [
  {
   "cell_type": "code",
   "execution_count": 5,
   "metadata": {},
   "outputs": [],
   "source": [
    "%run wrestling_functions.py"
   ]
  },
  {
   "cell_type": "code",
   "execution_count": null,
   "metadata": {},
   "outputs": [],
   "source": [
    "import os\n",
    "import csv\n",
    "\n",
    "# Path to collect data from the Resources folder\n",
    "wrestlingCSV = os.path.join('..', 'Resources', 'WWE-Data-2016.csv')\n",
    "\n",
    "\n",
    "# Define the function and have it accept the 'wrestlerData' as its sole parameter\n",
    "def getPercentages(wrestlerData):\n",
    "\n",
    "    # Total matches can be found by adding wins, losses, and draws together\n",
    "    totalMatches = int(wrestlerData[1]) + int(wrestlerData[2]) + int(wrestlerData[3])\n",
    "\n",
    "    # Win percent can be found by dividing the the total wins by the total matches and multiplying by 100\n",
    "    winPercent = (int(wrestlerData[1]) / totalMatches) * 100\n",
    "\n",
    "    # Loss percent can be found by dividing the total losses by the total matches and multiplying by 100\n",
    "    lossPercent = (int(wrestlerData[2]) / totalMatches) * 100\n",
    "\n",
    "    # Draw percent can be found by dividing the total draws by the total matches and multiplying by 100\n",
    "    drawPercent = (int(wrestlerData[3]) / totalMatches) * 100\n",
    "\n",
    "    # If the loss percentage is over 50, typeOfWrestler is \"Jobber\". Otherwise it is \"Superstar\".\n",
    "    if(lossPercent > 50):\n",
    "        typeOfWrestler = \"Jobber\"\n",
    "    else:\n",
    "        typeOfWrestler = \"Superstar\"\n",
    "\n",
    "    # Print out the wrestler's name and their percentage stats\n",
    "    print(f\"Stats for {wrestlerData[0]}\")\n",
    "    print(f\"WIN PERCENT: {str(winPercent)}\")\n",
    "    print(f\"LOSS PERCENT: {str(lossPercent)}\")\n",
    "    print(f\"DRAW PERCENT: {str(drawPercent)}\")\n",
    "    print(f\"{wrestlerData[0]} is a {typeOfWrestler}\")\n",
    "\n",
    "\n",
    "# Read in the CSV file\n",
    "with open(wrestlingCSV, 'r') as csvfile:\n",
    "\n",
    "    # Split the data on commas\n",
    "    csvreader = csv.reader(csvfile, delimiter=',')\n",
    "\n",
    "    header = next(csvreader)\n",
    "\n",
    "    # Prompt the user for what wrestler they would like to search for\n",
    "    nameToCheck = input(\"What wrestler do you want to look for? \")\n",
    "\n",
    "    # Loop through the data\n",
    "    for row in csvreader:\n",
    "\n",
    "        # If the wrestler's name in a row is equal to that which the user input, run the 'getPercentages()' function\n",
    "        if(nameToCheck == row[0]):\n",
    "            getPercentages(row)\n"
   ]
  },
  {
   "cell_type": "code",
   "execution_count": 4,
   "metadata": {},
   "outputs": [
    {
     "name": "stdout",
     "output_type": "stream",
     "text": [
      "2.3333333333333335\n"
     ]
    }
   ],
   "source": [
    "print(float(7)/float(3))"
   ]
  },
  {
   "cell_type": "code",
   "execution_count": null,
   "metadata": {},
   "outputs": [],
   "source": []
  }
 ],
 "metadata": {
  "kernelspec": {
   "display_name": "Python 3",
   "language": "python",
   "name": "python3"
  },
  "language_info": {
   "codemirror_mode": {
    "name": "ipython",
    "version": 3
   },
   "file_extension": ".py",
   "mimetype": "text/x-python",
   "name": "python",
   "nbconvert_exporter": "python",
   "pygments_lexer": "ipython3",
   "version": "3.6.3"
  }
 },
 "nbformat": 4,
 "nbformat_minor": 2
}

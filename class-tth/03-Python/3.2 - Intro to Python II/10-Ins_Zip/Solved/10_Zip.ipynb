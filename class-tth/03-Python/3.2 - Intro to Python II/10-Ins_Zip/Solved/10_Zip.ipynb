{
 "cells": [
  {
   "cell_type": "markdown",
   "metadata": {},
   "source": [
    "# Zip lists to tuples\n",
    "\n",
    "#### Key things to note:\n",
    "\n",
    "* zipped lists are turned into iterator objects (similar to tuples), but once they are iterated over, they are empty.\n",
    "* If lists that are being zipped are not the same length, the zip will still work, but some data may get lost."
   ]
  },
  {
   "cell_type": "code",
   "execution_count": 15,
   "metadata": {
    "collapsed": true
   },
   "outputs": [],
   "source": [
    "import csv\n",
    "import os\n",
    "\n",
    "# Three Lists\n",
    "indexes = [1, 2, 3, 4]\n",
    "employees = [\"Michael\", \"Dwight\", \"Angela\", \"Kelly\"]\n",
    "department = [\"Boss\", \"Sales\", \"Accounting\", \"HR\"]\n",
    "\n",
    "# Zip all three lists together into tuples\n",
    "roster = zip(indexes, employees, department)\n",
    "\n",
    "# save the output file path\n",
    "output_file = os.path.join(\"output.csv\")\n",
    "\n",
    "# open the output file, create a header row, and then write the zipped object to the csv\n",
    "with open(output_file, \"w\", newline=\"\") as datafile:\n",
    "    writer = csv.writer(datafile)\n",
    "\n",
    "    writer.writerow([\"Index\", \"Employee\", \"Department\"])\n",
    "\n",
    "    writer.writerows(roster)"
   ]
  },
  {
   "cell_type": "markdown",
   "metadata": {},
   "source": [
    "## Recreating zip iterator to display format"
   ]
  },
  {
   "cell_type": "code",
   "execution_count": 16,
   "metadata": {
    "collapsed": false
   },
   "outputs": [
    {
     "name": "stdout",
     "output_type": "stream",
     "text": [
      "(1, 'Michael', 'Boss')\n",
      "(2, 'Dwight', 'Sales')\n",
      "(3, 'Angela', 'Accounting')\n",
      "(4, 'Kelly', 'HR')\n"
     ]
    }
   ],
   "source": [
    "# Three Lists\n",
    "indexes = [1, 2, 3, 4]\n",
    "employees = [\"Michael\", \"Dwight\", \"Angela\", \"Kelly\"]\n",
    "department = [\"Boss\", \"Sales\", \"Accounting\", \"HR\"]\n",
    "\n",
    "# Zip all three lists together into tuples\n",
    "roster = zip(indexes, employees, department)\n",
    "\n",
    "for employee in roster:\n",
    "    print(employee)"
   ]
  },
  {
   "cell_type": "code",
   "execution_count": null,
   "metadata": {
    "collapsed": true
   },
   "outputs": [],
   "source": []
  }
 ],
 "metadata": {
  "kernelspec": {
   "display_name": "RicePythonData",
   "language": "python",
   "name": "ricepythondata"
  },
  "language_info": {
   "codemirror_mode": {
    "name": "ipython",
    "version": 3
   },
   "file_extension": ".py",
   "mimetype": "text/x-python",
   "name": "python",
   "nbconvert_exporter": "python",
   "pygments_lexer": "ipython3",
   "version": "3.7.1"
  }
 },
 "nbformat": 4,
 "nbformat_minor": 2
}

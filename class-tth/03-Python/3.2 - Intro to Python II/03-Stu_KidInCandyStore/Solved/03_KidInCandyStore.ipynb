{
 "cells": [
  {
   "cell_type": "markdown",
   "metadata": {},
   "source": [
    "## Kid in a Candy Store\n",
    "\n",
    "### Instructions\n",
    "\n",
    "* Create a loop that prints all of the candies in the store to the terminal with their index stored in brackets beside them.\n",
    "\n",
    "  * For example: `\"[0] Snickers\"`\n",
    "\n",
    "  * Create a loop that runs for a number of times as determined by the variable `allowance`.\n",
    "\n",
    "    * For example: If allowance is equal to five, the loop should run five times.\n",
    "\n",
    "  * Each time this second loop runs, take in a user's input - preferably a number - and then add the candy with a matching index to the variable `candyCart`.\n",
    "\n",
    "    * For example: If the user enters \"0\" as their input, \"Snickers\" should be added into the `candyCart` list.\n",
    "\n",
    "  * Use another loop to print all of the candies selected to the terminal."
   ]
  },
  {
   "cell_type": "code",
   "execution_count": null,
   "metadata": {
    "collapsed": false
   },
   "outputs": [],
   "source": [
    "# The list of candies to print to the screen\n",
    "candyList = [\"Snickers\", \"Kit Kat\", \"Sour Patch Kids\", \"Juicy Fruit\",\n",
    "             \"Swedish Fish\", \"Skittles\", \"Hershey Bar\", \"Skittles\", \"Starbursts\", \"M&Ms\"]\n",
    "\n",
    "# The amount of candy the user will be allowed to choose\n",
    "allowance = 5\n",
    "\n",
    "# The list used to store all of the candies selected inside of\n",
    "candyCart = []\n",
    "\n",
    "# Print all of the candies to the screen and their index in brackets\n",
    "for candy in candyList:\n",
    "    print(\"[\" + str(candyList.index(candy)) + \"] \" + candy)\n",
    "\n",
    "# Run through a loop which allows the user to choose which candies to take home with them\n",
    "for i in range(allowance):\n",
    "    selected = input(\"Which candy would you like to bring home? \")\n",
    "\n",
    "    # Add the candy at the index chosen to the candyCart list\n",
    "    candyCart.append(candyList[int(selected)])\n",
    "\n",
    "# Loop through the candyCart to say what candies were brought home\n",
    "print(\"I brought home with me...\")\n",
    "for candy in candyCart:\n",
    "    print(candy)"
   ]
  },
  {
   "cell_type": "markdown",
   "metadata": {},
   "source": [
    "### Bonus\n",
    "\n",
    "* Create a version of the same code which allows a user to select as much candy as they want up until they say they do not want any more."
   ]
  },
  {
   "cell_type": "code",
   "execution_count": null,
   "metadata": {
    "collapsed": true
   },
   "outputs": [],
   "source": [
    "# The list of candies to print to the screen\n",
    "candyList = [\"Snickers\", \"Kit Kat\", \"Sour Patch Kids\", \"Juicy Fruit\",\n",
    "             \"Swedish Fish\", \"Skittles\", \"Hershey Bar\", \"Skittles\", \"Starbursts\", \"M&Ms\"]\n",
    "\n",
    "# The amount of candy the user will be allowed to choose\n",
    "allowance = 5\n",
    "\n",
    "# The list used to store all of the candies selected inside of\n",
    "candyCart = []\n",
    "\n",
    "# Print all of the candies to the screen and their index in brackets\n",
    "for candy in candyList:\n",
    "    print(\"[\" + str(candyList.index(candy)) + \"] \" + candy)\n",
    "\n",
    "# Run through a loop which allows the user to choose which candies to take home with them\n",
    "for x in range(allowance):\n",
    "    selected = input(\"Which candy would you like to bring home? \")\n",
    "\n",
    "    # Add the candy at the index chosen to the candyCart list\n",
    "    candyCart.append(candyList[int(selected)])\n",
    "\n",
    "# Loop through the candyCart to say what candies were brought home\n",
    "print(\"I brought home with me...\")\n",
    "for candy in candyCart:\n",
    "    print(candy)\n"
   ]
  }
 ],
 "metadata": {
  "kernelspec": {
   "display_name": "RicePythonData",
   "language": "python",
   "name": "ricepythondata"
  },
  "language_info": {
   "codemirror_mode": {
    "name": "ipython",
    "version": 3
   },
   "file_extension": ".py",
   "mimetype": "text/x-python",
   "name": "python",
   "nbconvert_exporter": "python",
   "pygments_lexer": "ipython3",
   "version": "3.7.1"
  }
 },
 "nbformat": 4,
 "nbformat_minor": 2
}

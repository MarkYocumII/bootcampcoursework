{
 "cells": [
  {
   "cell_type": "markdown",
   "metadata": {},
   "source": [
    "# Modules\n",
    "\n",
    "[List of Built-in Python Modules](https://docs.python.org/3/library/index.html)"
   ]
  },
  {
   "cell_type": "code",
   "execution_count": null,
   "metadata": {
    "collapsed": false
   },
   "outputs": [],
   "source": [
    "# Import the random and string Module\n",
    "import random\n",
    "import string\n",
    "\n",
    "# Utilize the string module's custom method: \".ascii_letters\"\n",
    "print(string.ascii_letters)\n",
    "\n",
    "# Utilize the random module's custom method randint\n",
    "for x in range(10):\n",
    "    print(random.randint(1, 10))"
   ]
  },
  {
   "cell_type": "code",
   "execution_count": null,
   "metadata": {
    "collapsed": false
   },
   "outputs": [],
   "source": [
    "# import text processing module \n",
    "import difflib\n",
    "\n",
    "# create list of available terms\n",
    "words = ['ape', 'monkey', 'banana', 'application', 'apply', 'blueberry', 'apple']\n",
    "\n",
    "# utilize the get_close_matches function from the difflib module to \n",
    "# identify which terms from our list are the most similar to a provided value\n",
    "difflib.get_close_matches('appel', words)"
   ]
  },
  {
   "cell_type": "code",
   "execution_count": null,
   "metadata": {
    "collapsed": true
   },
   "outputs": [],
   "source": []
  }
 ],
 "metadata": {
  "kernelspec": {
   "display_name": "RicePythonData",
   "language": "python",
   "name": "ricepythondata"
  },
  "language_info": {
   "codemirror_mode": {
    "name": "ipython",
    "version": 3
   },
   "file_extension": ".py",
   "mimetype": "text/x-python",
   "name": "python",
   "nbconvert_exporter": "python",
   "pygments_lexer": "ipython3",
   "version": "3.7.1"
  }
 },
 "nbformat": 4,
 "nbformat_minor": 2
}

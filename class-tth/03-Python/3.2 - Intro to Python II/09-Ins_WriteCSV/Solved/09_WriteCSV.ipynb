{
 "cells": [
  {
   "cell_type": "markdown",
   "metadata": {},
   "source": [
    "# Write to CSV\n",
    "\n",
    "\n",
    "### Key things to note:\n",
    "* Similar syntax to reading csvs\n",
    "* major difference is that we are now using `'w'` in the `open` function, and we are now using `csv.writer`\n",
    "* `csvwriter` is only available within the indent block beneath `with open()`, so all lines must be written to file within the indent block.\n",
    "* lines are being written to the file in `list` format, and they are assumed to be in the proper column order"
   ]
  },
  {
   "cell_type": "code",
   "execution_count": 1,
   "metadata": {
    "collapsed": false
   },
   "outputs": [],
   "source": [
    "# Dependencies\n",
    "import os\n",
    "import csv\n",
    "\n",
    "# Specify the file to write to\n",
    "output_path = os.path.join(\"..\", \"output\", \"new.csv\")\n",
    "\n",
    "# Open the file using \"write\" mode. Specify the variable to hold the contents\n",
    "with open(output_path, 'w', newline='') as csvfile:\n",
    "\n",
    "    # Initialize csv.writer\n",
    "    csvwriter = csv.writer(csvfile, delimiter=',')\n",
    "\n",
    "    # Write the first row (column headers)\n",
    "    csvwriter.writerow(['First Name', 'Last Name', 'SSN'])\n",
    "\n",
    "    # Write the second row\n",
    "    csvwriter.writerow(['Caleb', 'Frost', '505-80-2901'])"
   ]
  },
  {
   "cell_type": "code",
   "execution_count": null,
   "metadata": {
    "collapsed": true
   },
   "outputs": [],
   "source": []
  }
 ],
 "metadata": {
  "kernelspec": {
   "display_name": "RicePythonData",
   "language": "python",
   "name": "ricepythondata"
  },
  "language_info": {
   "codemirror_mode": {
    "name": "ipython",
    "version": 3
   },
   "file_extension": ".py",
   "mimetype": "text/x-python",
   "name": "python",
   "nbconvert_exporter": "python",
   "pygments_lexer": "ipython3",
   "version": "3.7.1"
  }
 },
 "nbformat": 4,
 "nbformat_minor": 2
}

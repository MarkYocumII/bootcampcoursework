{
 "cells": [
  {
   "cell_type": "markdown",
   "metadata": {},
   "source": [
    "# Functions"
   ]
  },
  {
   "cell_type": "code",
   "execution_count": null,
   "metadata": {
    "collapsed": false
   },
   "outputs": [],
   "source": [
    "# Define the function and tell it to print \"Hello!\" when called\n",
    "def printHello():\n",
    "    print(f\"Hello!\")\n",
    "\n",
    "\n",
    "# Call the function within the application to ensure the code is run\n",
    "printHello()\n",
    "# -------------#\n",
    "\n",
    "\n",
    "# Functions that take in and use parameters can also be defined\n",
    "def printName(name):\n",
    "    print(\"Hello \" + name + \"!\")\n",
    "\n",
    "\n",
    "# When calling a function with a parameter, a parameter must be passed into the function\n",
    "printName(\"Bob Smith\")\n",
    "# -------------#\n",
    "\n",
    "# The prime use case for functions is in being able to run the same code for different values\n",
    "listOne = [1, 2, 3, 4, 5, 6, 7, 8, 9, 10]\n",
    "listTwo = [11, 12, 13, 14, 15]\n",
    "\n",
    "\n",
    "def listInformation(simpleList):\n",
    "    print(f\"The values within the list are...\")\n",
    "    for value in simpleList:\n",
    "        print(value)\n",
    "    print(\"The length of this list is... \" + str(len(simpleList)))\n",
    "\n",
    "\n",
    "listInformation(listOne)\n",
    "listInformation(listTwo)\n"
   ]
  },
  {
   "cell_type": "code",
   "execution_count": null,
   "metadata": {
    "collapsed": true
   },
   "outputs": [],
   "source": []
  }
 ],
 "metadata": {
  "kernelspec": {
   "display_name": "RicePythonData",
   "language": "python",
   "name": "ricepythondata"
  },
  "language_info": {
   "codemirror_mode": {
    "name": "ipython",
    "version": 3
   },
   "file_extension": ".py",
   "mimetype": "text/x-python",
   "name": "python",
   "nbconvert_exporter": "python",
   "pygments_lexer": "ipython3",
   "version": "3.7.1"
  }
 },
 "nbformat": 4,
 "nbformat_minor": 2
}

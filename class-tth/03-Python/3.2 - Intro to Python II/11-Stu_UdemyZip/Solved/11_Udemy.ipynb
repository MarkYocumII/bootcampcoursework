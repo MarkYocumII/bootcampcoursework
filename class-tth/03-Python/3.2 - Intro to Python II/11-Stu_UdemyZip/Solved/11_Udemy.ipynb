{
 "cells": [
  {
   "cell_type": "markdown",
   "metadata": {},
   "source": [
    "# Udemy - Web Course Breakdown\n",
    "\n",
    "## Instructions\n",
    "\n",
    "* Create a Python application that reads the data on Udemy Web Development offerings. \n",
    "\n",
    "* Then store the contents of the Title, Price, Subscriber Count, Number of Reviews, and Course Length into Python Lists.\n",
    "\n",
    "* Then zip these lists together into a single tuple.\n",
    "\n",
    "* Finally, write the contents of your extracted data into a CSV. Make sure to include the titles of these columns in your csv.\n",
    "\n",
    "## Notes:\n",
    "\n",
    "* Windows user may get an `UnicodeDecodeError`, to avoid this file pass in `encoding=\"utf8\"` as an additional parameter when reading in the file.\n",
    "\n",
    "* As, with many datasets, the file does not include the header line. Use the below as a guide on the columns: \"id,title,url,isPaid,price,numSubscribers,numReviews,numPublishedLectures,instructionalLevel,contentInfo,publishedTime\"\n",
    "\n",
    "## Bonus\n",
    "\n",
    "* Find the percent of subscribers that have also left a review on the course. Include this in your final output.\n",
    "\n",
    "* Parse the string associated with course length, such that we store it as an integer instead of a string. (i.e. \"4 hours\" should be converted to 4).\n"
   ]
  },
  {
   "cell_type": "code",
   "execution_count": null,
   "metadata": {
    "collapsed": true
   },
   "outputs": [],
   "source": [
    "import os\n",
    "import csv\n",
    "\n",
    "udemy_csv = os.path.join(\"..\", \"Resources\", \"web_starter.csv\")\n",
    "\n",
    "# Lists to store data\n",
    "title = []\n",
    "price = []\n",
    "subscribers = []\n",
    "reviews = []\n",
    "review_percent = []\n",
    "length = []\n",
    "\n",
    "# with open(udemy_csv, newline=\"\", encoding='utf-8') as csvfile:\n",
    "with open(udemy_csv, newline=\"\") as csvfile:\n",
    "    csvreader = csv.reader(csvfile, delimiter=\",\")\n",
    "    for row in csvreader:\n",
    "        # Add title\n",
    "        title.append(row[1])\n",
    "\n",
    "        # Add price\n",
    "        price.append(row[4])\n",
    "\n",
    "        # Add number of subscribers\n",
    "        subscribers.append(row[5])\n",
    "\n",
    "        # Add amount of reviews\n",
    "        reviews.append(row[6])\n",
    "\n",
    "        # Determine percent of review left to 2 decimal places\n",
    "        percent = round(int(row[6]) / int(row[5]), 2)\n",
    "        review_percent.append(percent)\n",
    "\n",
    "        # Get length of the course to just a number\n",
    "        new_length = row[9].split(\" \")\n",
    "        length.append(float(new_length[0]))\n",
    "\n",
    "# Zip lists together\n",
    "cleaned_csv = zip(title, price, subscribers, reviews, review_percent, length)\n",
    "\n",
    "# Set variable for output file\n",
    "output_file = os.path.join(\"web_final.csv\")\n",
    "\n",
    "#  Open the output file\n",
    "with open(output_file, \"w\", newline=\"\") as datafile:\n",
    "    writer = csv.writer(datafile)\n",
    "\n",
    "    # Write the header row\n",
    "    writer.writerow([\"Title\", \"Course Price\", \"Subscribers\", \"Reviews Left\",\n",
    "                     \"Percent of Reviews\", \"Length of Course\"])\n",
    "\n",
    "    # Write in zipped rows\n",
    "    writer.writerows(cleaned_csv)\n"
   ]
  }
 ],
 "metadata": {
  "kernelspec": {
   "display_name": "RicePythonData",
   "language": "python",
   "name": "ricepythondata"
  },
  "language_info": {
   "codemirror_mode": {
    "name": "ipython",
    "version": 3
   },
   "file_extension": ".py",
   "mimetype": "text/x-python",
   "name": "python",
   "nbconvert_exporter": "python",
   "pygments_lexer": "ipython3",
   "version": "3.7.1"
  }
 },
 "nbformat": 4,
 "nbformat_minor": 2
}

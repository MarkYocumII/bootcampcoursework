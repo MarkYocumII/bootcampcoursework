{
 "cells": [
  {
   "cell_type": "markdown",
   "metadata": {},
   "source": [
    "# Netflix lookup\n",
    "\n",
    "Finding the info to some of Netflix's most popular videos\n",
    "\n",
    "## Instructions\n",
    "\n",
    "* Prompt the user for what video they are looking for.\n",
    "\n",
    "* Search through the `netflix_ratings.csv` to find the user's video.\n",
    "\n",
    "* If the CSV contains the user's video then print out the title, what it is rated and the current user ratings.\n",
    "\n",
    "  * For example \"Pup Star is rated G with a rating of 82\"\n",
    "\n",
    "* If the CSV does not contain the user's video then print out a message telling them that their video could not be found."
   ]
  },
  {
   "cell_type": "code",
   "execution_count": null,
   "metadata": {
    "collapsed": false
   },
   "outputs": [],
   "source": [
    "# Modules\n",
    "import os\n",
    "import csv\n",
    "\n",
    "# Prompt user for video lookup\n",
    "video = input(\"What show or movie are you looking for? \")\n",
    "\n",
    "# Set path for file\n",
    "csvpath = os.path.join(\"Resources\", \"netflix_ratings.csv\")\n",
    "\n",
    "# Bonus\n",
    "# ------------------------------------------\n",
    "# Set variable to check if we found the video\n",
    "found = False\n",
    "\n",
    "# Open the CSV\n",
    "with open(csvpath, newline=\"\") as csvfile:\n",
    "    csvreader = csv.reader(csvfile, delimiter=\",\")\n",
    "\n",
    "    # Loop through looking for the video\n",
    "    for row in csvreader:\n",
    "        if row[0] == video:\n",
    "            print(row[0] + \" is rated \" + row[1] + \" with a rating of \" + row[5])\n",
    "\n",
    "            # BONUS: Set variable to confirm we have found the video\n",
    "            found = True\n",
    "\n",
    "            # BONUS: Stop at first results to avoid duplicates\n",
    "            break\n",
    "\n",
    "    # If the video is never found, alert the user\n",
    "    if found is False:\n",
    "        print(\"Sorry about this, we don't seem to have what you are looking for!\")"
   ]
  },
  {
   "cell_type": "code",
   "execution_count": null,
   "metadata": {
    "collapsed": true
   },
   "outputs": [],
   "source": []
  }
 ],
 "metadata": {
  "kernelspec": {
   "display_name": "RicePythonData",
   "language": "python",
   "name": "ricepythondata"
  },
  "language_info": {
   "codemirror_mode": {
    "name": "ipython",
    "version": 3
   },
   "file_extension": ".py",
   "mimetype": "text/x-python",
   "name": "python",
   "nbconvert_exporter": "python",
   "pygments_lexer": "ipython3",
   "version": "3.7.1"
  }
 },
 "nbformat": 4,
 "nbformat_minor": 2
}

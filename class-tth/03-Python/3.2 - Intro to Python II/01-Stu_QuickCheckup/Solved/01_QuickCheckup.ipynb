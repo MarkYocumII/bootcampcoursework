{
 "cells": [
  {
   "cell_type": "markdown",
   "metadata": {},
   "source": [
    "# Quick Check-Up!\n",
    "\n",
    "## Instructions\n",
    "\n",
    "* Create a simple Python command line application. Upon running, the application should:\n",
    "\n",
    "  * Print \"Hello User!\"\n",
    "\n",
    "  * Then ask: \"What is your name? \"\n",
    "\n",
    "  * Then respond: \"Hello &lt;user's name>\"\n",
    "\n",
    "  * Then ask: \"What is your age? \"\n",
    "\n",
    "  * Then respond: \"Awww... you're just a baby!\" or \"Ah... A well traveled soul are ye.\" depending on the user's age.\n",
    "\n",
    "## Hints\n",
    "\n",
    "* Remember to cast!"
   ]
  },
  {
   "cell_type": "code",
   "execution_count": null,
   "metadata": {
    "collapsed": false
   },
   "outputs": [],
   "source": [
    "# Print Hello User!\n",
    "print(\"Hello User!\")\n",
    "\n",
    "# Take in User Input\n",
    "name = input(\"What is your name? \")\n",
    "\n",
    "# Respond Back with User Input\n",
    "print(\"Hi \" + name + \"!\")\n",
    "\n",
    "# Take in the User Age\n",
    "age = int(input(\"What is your age? \"))\n",
    "\n",
    "# Respond Back with a statement based on age\n",
    "if (age < 8):\n",
    "    print(\"Aww! You are just a baby!\")\n",
    "\n",
    "else:\n",
    "    print(\"Ah... A well traveled soul are ye!\")"
   ]
  },
  {
   "cell_type": "code",
   "execution_count": null,
   "metadata": {
    "collapsed": true
   },
   "outputs": [],
   "source": []
  }
 ],
 "metadata": {
  "kernelspec": {
   "display_name": "RicePythonData",
   "language": "python",
   "name": "ricepythondata"
  },
  "language_info": {
   "codemirror_mode": {
    "name": "ipython",
    "version": 3
   },
   "file_extension": ".py",
   "mimetype": "text/x-python",
   "name": "python",
   "nbconvert_exporter": "python",
   "pygments_lexer": "ipython3",
   "version": "3.7.1"
  }
 },
 "nbformat": 4,
 "nbformat_minor": 2
}

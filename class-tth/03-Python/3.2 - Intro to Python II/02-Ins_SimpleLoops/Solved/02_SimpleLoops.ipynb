{
 "cells": [
  {
   "cell_type": "markdown",
   "metadata": {},
   "source": [
    "# Simple Loops"
   ]
  },
  {
   "cell_type": "markdown",
   "metadata": {},
   "source": [
    "### A For loop moves through a given range of numbers\n",
    "### When using the `range()` function, if only one number is provided it will loop from 0 to that number"
   ]
  },
  {
   "cell_type": "code",
   "execution_count": 7,
   "metadata": {
    "collapsed": false,
    "scrolled": true
   },
   "outputs": [
    {
     "name": "stdout",
     "output_type": "stream",
     "text": [
      "0\n",
      "1\n",
      "2\n",
      "3\n",
      "4\n",
      "5\n",
      "6\n",
      "7\n",
      "8\n",
      "9\n"
     ]
    }
   ],
   "source": [
    "for i in range(10):\n",
    "    print(i)"
   ]
  },
  {
   "cell_type": "markdown",
   "metadata": {},
   "source": [
    "### When using the `range()` function, if two numbers are provided then a For loop will loop from the first number up until it reaches the second number\n"
   ]
  },
  {
   "cell_type": "code",
   "execution_count": 8,
   "metadata": {
    "collapsed": false
   },
   "outputs": [
    {
     "name": "stdout",
     "output_type": "stream",
     "text": [
      "20\n",
      "21\n",
      "22\n",
      "23\n",
      "24\n",
      "25\n",
      "26\n",
      "27\n",
      "28\n",
      "29\n"
     ]
    }
   ],
   "source": [
    "for i in range(20, 30):\n",
    "    print(i)"
   ]
  },
  {
   "cell_type": "markdown",
   "metadata": {},
   "source": [
    "### If a list is provided, then the For loop will loop through each element within the list\n"
   ]
  },
  {
   "cell_type": "code",
   "execution_count": 9,
   "metadata": {
    "collapsed": false
   },
   "outputs": [
    {
     "name": "stdout",
     "output_type": "stream",
     "text": [
      "Peanut\n",
      "Butter\n",
      "Jelly\n",
      "Time\n",
      "Is\n",
      "Now\n"
     ]
    }
   ],
   "source": [
    "words = [\"Peanut\", \"Butter\", \"Jelly\", \"Time\", \"Is\", \"Now\"]\n",
    "for word in words:\n",
    "    print(word)"
   ]
  },
  {
   "cell_type": "markdown",
   "metadata": {},
   "source": [
    "### A While Loop will continue to loop through the code contained within it until some condition is met"
   ]
  },
  {
   "cell_type": "code",
   "execution_count": 11,
   "metadata": {
    "collapsed": false
   },
   "outputs": [
    {
     "name": "stdout",
     "output_type": "stream",
     "text": [
      "Whee! Merry-Go-Rounds are great!\n",
      "Would you like to go on the Merry-Go-Round again? yes\n",
      "Whee! Merry-Go-Rounds are great!\n",
      "Would you like to go on the Merry-Go-Round again? ya\n",
      "Whee! Merry-Go-Rounds are great!\n",
      "Would you like to go on the Merry-Go-Round again? Yes\n",
      "Whee! Merry-Go-Rounds are great!\n",
      "Would you like to go on the Merry-Go-Round again? asdfgadlkl\n"
     ]
    }
   ],
   "source": [
    "x = \"Yes\"\n",
    "while x == \"Yes\":\n",
    "    print(\"Whee! Merry-Go-Rounds are great!\")\n",
    "    x = input(\"Would you like to go on the Merry-Go-Round again? \")"
   ]
  },
  {
   "cell_type": "code",
   "execution_count": null,
   "metadata": {
    "collapsed": true
   },
   "outputs": [],
   "source": []
  }
 ],
 "metadata": {
  "kernelspec": {
   "display_name": "RicePythonData",
   "language": "python",
   "name": "ricepythondata"
  },
  "language_info": {
   "codemirror_mode": {
    "name": "ipython",
    "version": 3
   },
   "file_extension": ".py",
   "mimetype": "text/x-python",
   "name": "python",
   "nbconvert_exporter": "python",
   "pygments_lexer": "ipython3",
   "version": "3.7.1"
  }
 },
 "nbformat": 4,
 "nbformat_minor": 2
}

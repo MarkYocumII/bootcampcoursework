{
 "cells": [
  {
   "cell_type": "markdown",
   "metadata": {},
   "source": [
    "# Infested with Bugs! :(\n",
    "\n",
    "### Instructions\n",
    "\n",
    "* This Jupyter Notebook is plagued with errors. Dig through it and attempt to fix as many bugs as possible. There are a lot of them and the bugs get harder to deal with as the code progresses.\n",
    "\n",
    "* Once you have finished bugfixing, perform some additional analysis on the dataset provided. See what interesting trends are buried deep within these bug logs for the Eclipse IDE. So long as you challenge yourself, bugs will pop up and you will get even more bugfixing practice.\n",
    "\n",
    "### Hints\n",
    "\n",
    "* After fixing the bugs in each block of code, be sure to run the cell below for an updated error.\n",
    "\n",
    "* There are a few new concepts being covered within this Jupyter Notebook. The most complex of these concepts is that of multi-indexing and it is very likely that this is where many will get held up. Do not worry though, multi-indexing is not in the homework and is not required outside of this activity. It is simply an interesting/powerful feature of Pandas."
   ]
  },
  {
   "cell_type": "markdown",
   "metadata": {},
   "source": [
    "#### Create a reference to the CSV and import it into a Pandas DataFrame"
   ]
  },
  {
   "cell_type": "code",
   "execution_count": null,
   "metadata": {
    "collapsed": true
   },
   "outputs": [],
   "source": [
    "csv_path = \"Resources/EclipseBugs.csv\"\n",
    "pd.read_csv(csv_path)"
   ]
  },
  {
   "cell_type": "markdown",
   "metadata": {},
   "source": [
    "#### Finding the average number of comments per bug"
   ]
  },
  {
   "cell_type": "code",
   "execution_count": null,
   "metadata": {
    "collapsed": true
   },
   "outputs": [],
   "source": [
    "average_comments = eclipse_df[\"Number of Comments\"].mean()\n",
    "average_comments"
   ]
  },
  {
   "cell_type": "markdown",
   "metadata": {},
   "source": [
    "#### Group by Assignee and count how many of each component Assignees worked on"
   ]
  },
  {
   "cell_type": "code",
   "execution_count": null,
   "metadata": {
    "collapsed": true
   },
   "outputs": [],
   "source": [
    "# Grouping the DataFrame by \"Assignee\"\n",
    "assignee_group = eclipse_df.groupby(\"Assignee\")\n",
    "\n",
    "# Count how many of each component Assignees worked on and create DataFrame\n",
    "assignee_work = pd.DataFrame(assignee_group[\"Component\"].value_counts())\n",
    "assignee_work.head()"
   ]
  },
  {
   "cell_type": "markdown",
   "metadata": {},
   "source": [
    "#### Rename the \"Component\" column to \"Component Bug Count\""
   ]
  },
  {
   "cell_type": "code",
   "execution_count": null,
   "metadata": {},
   "outputs": [],
   "source": []
  },
  {
   "cell_type": "markdown",
   "metadata": {},
   "source": [
    "#### Find the percentage of bugs overall fixed by each Assignee"
   ]
  },
  {
   "cell_type": "code",
   "execution_count": null,
   "metadata": {
    "collapsed": true
   },
   "outputs": [],
   "source": [
    "total_bugs = assignee_group[\"Assignee\"].count()\n",
    "bugs_per_user = assignee_group[\"Assignee\"].value_counts()\n",
    "\n",
    "user_bug_percent = pd.DataFrame((bugs_per_user/total_bugs)*100)\n",
    "user_bug_percent.head()"
   ]
  },
  {
   "cell_type": "markdown",
   "metadata": {},
   "source": [
    "#### Merge data and remove columns"
   ]
  },
  {
   "cell_type": "code",
   "execution_count": null,
   "metadata": {
    "collapsed": true
   },
   "outputs": [],
   "source": [
    "# Merge the \"Percent of Total Bugs Assigned\" into the DataFrame\n",
    "assignee_work = assignee_work.merge(user_bug_percent, on=\"Assignee\")\n",
    "\n",
    "# Remove the extra columns\n",
    "assignee_work = assignee_work[[\n",
    "    \"Assignee\", \"Percent of Total Bugs\", \"Component\", \"Component Bug Count\"]]\n",
    "assignee_work.head()"
   ]
  }
 ],
 "metadata": {
  "kernelspec": {
   "display_name": "Python 3",
   "language": "python",
   "name": "python3"
  },
  "language_info": {
   "codemirror_mode": {
    "name": "ipython",
    "version": 3
   },
   "file_extension": ".py",
   "mimetype": "text/x-python",
   "name": "python",
   "nbconvert_exporter": "python",
   "pygments_lexer": "ipython3",
   "version": "3.7.0"
  }
 },
 "nbformat": 4,
 "nbformat_minor": 2
}

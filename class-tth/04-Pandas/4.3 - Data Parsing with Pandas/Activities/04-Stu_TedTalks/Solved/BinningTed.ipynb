{
 "cells": [
  {
   "cell_type": "markdown",
   "metadata": {},
   "source": [
    "# Binning TED Talks\n",
    "\n",
    "### Instructions\n",
    "\n",
    "* Read in the CSV file provided and print it to the screen.\n",
    "\n",
    "* Find the minimum \"views\" and maximum \"views\".\n",
    "\n",
    "* Using the minimum and maximum \"views\" as a reference, create 10 bins in which to slice the data.\n",
    "\n",
    "* Create a new column called \"View Group\" and fill it with the values collected through your slicing.\n",
    "\n",
    "* Group the DataFrame based upon the values within \"View Group\".\n",
    "\n",
    "* Find out how many rows fall into each group before finding the averages for \"comments\", \"duration\", and \"languages\".\n"
   ]
  },
  {
   "cell_type": "markdown",
   "metadata": {},
   "source": [
    "#### Import Dependencies"
   ]
  },
  {
   "cell_type": "code",
   "execution_count": null,
   "metadata": {
    "collapsed": true
   },
   "outputs": [],
   "source": [
    "import pandas as pd"
   ]
  },
  {
   "cell_type": "markdown",
   "metadata": {},
   "source": [
    "#### Load data file"
   ]
  },
  {
   "cell_type": "code",
   "execution_count": null,
   "metadata": {},
   "outputs": [],
   "source": [
    "csv_path = \"Resources/ted_talks.csv\"\n",
    "ted_df = pd.read_csv(csv_path)\n",
    "\n",
    "ted_df.head()"
   ]
  },
  {
   "cell_type": "markdown",
   "metadata": {},
   "source": [
    "### Print out the minimum and maximum views for a TED Talk"
   ]
  },
  {
   "cell_type": "code",
   "execution_count": null,
   "metadata": {},
   "outputs": [],
   "source": [
    "print(ted_df[\"views\"].max())\n",
    "print(ted_df[\"views\"].min())"
   ]
  },
  {
   "cell_type": "markdown",
   "metadata": {},
   "source": [
    "### Create bins in which to place values based upon TED Talk views, then create group labels for the bins\n",
    "- **HINT:** Use the printed out `min` and `max` from above to guide your bin selections.\n",
    "- **HINT:** Try staying around 10-11 bins"
   ]
  },
  {
   "cell_type": "code",
   "execution_count": null,
   "metadata": {
    "collapsed": true
   },
   "outputs": [],
   "source": [
    "bins = [0, 200000, 400000, 600000, 800000, 1000000,\n",
    "        2000000, 3000000, 4000000, 5000000, 50000000]\n",
    "\n",
    "# Create labels for these bins\n",
    "group_labels = [\"0 to 200k\", \"200k to 400k\", \"400k to 600k\", \"600k to 800k\", \"800k to 1mil\", \"1mil to 2mil\",\n",
    "                \"2mil to 3mil\", \"3mil to 4mil\", \"4mil to 5mil\", \"5mil to 50mil\"]"
   ]
  },
  {
   "cell_type": "markdown",
   "metadata": {},
   "source": [
    "### Slice the data and place it into bins"
   ]
  },
  {
   "cell_type": "code",
   "execution_count": null,
   "metadata": {},
   "outputs": [],
   "source": [
    "pd.cut(ted_df[\"views\"], bins, labels=group_labels).head()"
   ]
  },
  {
   "cell_type": "markdown",
   "metadata": {},
   "source": [
    "### Place the data series into a new column inside of the DataFrame"
   ]
  },
  {
   "cell_type": "code",
   "execution_count": null,
   "metadata": {},
   "outputs": [],
   "source": [
    "ted_df[\"View Group\"] = pd.cut(ted_df[\"views\"], bins, labels=group_labels)\n",
    "ted_df.head()"
   ]
  },
  {
   "cell_type": "markdown",
   "metadata": {},
   "source": [
    "### Create a GroupBy object based upon \"View Group\""
   ]
  },
  {
   "cell_type": "code",
   "execution_count": null,
   "metadata": {},
   "outputs": [],
   "source": [
    "ted_group = ted_df.groupby(\"View Group\")"
   ]
  },
  {
   "cell_type": "markdown",
   "metadata": {},
   "source": [
    "### Find how many rows fall into each bin\n",
    "\n",
    "**NOTE:** You'll want to use a function that **counts** the rows"
   ]
  },
  {
   "cell_type": "code",
   "execution_count": null,
   "metadata": {},
   "outputs": [],
   "source": [
    "ted_group['comments'].count()"
   ]
  },
  {
   "cell_type": "markdown",
   "metadata": {},
   "source": [
    "### Display the average of each numeric column within the GroupBy object"
   ]
  },
  {
   "cell_type": "code",
   "execution_count": null,
   "metadata": {},
   "outputs": [],
   "source": [
    "ted_group[[\"comments\", \"duration\", \"languages\"]].mean()"
   ]
  },
  {
   "cell_type": "code",
   "execution_count": null,
   "metadata": {},
   "outputs": [],
   "source": []
  }
 ],
 "metadata": {
  "kernelspec": {
   "display_name": "RicePythonData",
   "language": "python",
   "name": "ricepythondata"
  },
  "language_info": {
   "codemirror_mode": {
    "name": "ipython",
    "version": 3
   },
   "file_extension": ".py",
   "mimetype": "text/x-python",
   "name": "python",
   "nbconvert_exporter": "python",
   "pygments_lexer": "ipython3",
   "version": "3.7.1"
  }
 },
 "nbformat": 4,
 "nbformat_minor": 2
}

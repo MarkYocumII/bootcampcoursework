{
 "cells": [
  {
   "cell_type": "markdown",
   "metadata": {},
   "source": [
    "# Merging Cryptocurrency\n",
    "\n",
    "### Instructions\n",
    "\n",
    "* Read in both of the CSV files and print out their DataFrames.\n",
    "\n",
    "* Perform an inner merge that combines both DataFrames on the \"Date\" column.\n",
    "\n",
    "* Rename the columns within the newly merged DataFrame so that the headers are more descriptive.\n",
    "\n",
    "* Create a summary table that includes the following information: `Best Bitcoin Open`, `Best Dash Open`, `Best Bitcoin Close`, `Best Dash Close`, `Total Bitcoin Volume`, `Total Dash Volume`.\n",
    "\n",
    "* `Total Bitcoin Volume` and `Total Dash Volume` should be calculated to have units of \"millions\" and be rounded to two decimal places.\n"
   ]
  },
  {
   "cell_type": "markdown",
   "metadata": {},
   "source": [
    "### Import Dependencies"
   ]
  },
  {
   "cell_type": "code",
   "execution_count": 1,
   "metadata": {
    "collapsed": true
   },
   "outputs": [],
   "source": [
    "import pandas as pd"
   ]
  },
  {
   "cell_type": "markdown",
   "metadata": {},
   "source": [
    "### Load data files"
   ]
  },
  {
   "cell_type": "code",
   "execution_count": 2,
   "metadata": {
    "collapsed": true
   },
   "outputs": [],
   "source": [
    "# Specify path to files\n",
    "bitcoin_csv = \"Resources/bitcoin_cash_price.csv\"\n",
    "dash_csv = \"Resources/dash_price.csv\"\n",
    "\n",
    "# read files from path\n",
    "bitcoin_df = pd.read_csv(bitcoin_csv)\n",
    "dash_df = pd.read_csv(dash_csv)"
   ]
  },
  {
   "cell_type": "markdown",
   "metadata": {},
   "source": [
    "### View bitcoin data"
   ]
  },
  {
   "cell_type": "code",
   "execution_count": 3,
   "metadata": {
    "collapsed": true
   },
   "outputs": [
    {
     "data": {
      "text/html": [
       "<div>\n",
       "<style scoped>\n",
       "    .dataframe tbody tr th:only-of-type {\n",
       "        vertical-align: middle;\n",
       "    }\n",
       "\n",
       "    .dataframe tbody tr th {\n",
       "        vertical-align: top;\n",
       "    }\n",
       "\n",
       "    .dataframe thead th {\n",
       "        text-align: right;\n",
       "    }\n",
       "</style>\n",
       "<table border=\"1\" class=\"dataframe\">\n",
       "  <thead>\n",
       "    <tr style=\"text-align: right;\">\n",
       "      <th></th>\n",
       "      <th>Date</th>\n",
       "      <th>Open</th>\n",
       "      <th>High</th>\n",
       "      <th>Low</th>\n",
       "      <th>Close</th>\n",
       "      <th>Volume</th>\n",
       "      <th>Market Cap</th>\n",
       "    </tr>\n",
       "  </thead>\n",
       "  <tbody>\n",
       "    <tr>\n",
       "      <th>0</th>\n",
       "      <td>17-Sep-17</td>\n",
       "      <td>438.90</td>\n",
       "      <td>438.90</td>\n",
       "      <td>384.06</td>\n",
       "      <td>419.86</td>\n",
       "      <td>221828000.0</td>\n",
       "      <td>7,279,520,000</td>\n",
       "    </tr>\n",
       "    <tr>\n",
       "      <th>1</th>\n",
       "      <td>16-Sep-17</td>\n",
       "      <td>424.49</td>\n",
       "      <td>450.98</td>\n",
       "      <td>388.20</td>\n",
       "      <td>440.22</td>\n",
       "      <td>313583000.0</td>\n",
       "      <td>7,039,590,000</td>\n",
       "    </tr>\n",
       "    <tr>\n",
       "      <th>2</th>\n",
       "      <td>15-Sep-17</td>\n",
       "      <td>369.49</td>\n",
       "      <td>448.39</td>\n",
       "      <td>301.69</td>\n",
       "      <td>424.02</td>\n",
       "      <td>707231000.0</td>\n",
       "      <td>6,126,800,000</td>\n",
       "    </tr>\n",
       "    <tr>\n",
       "      <th>3</th>\n",
       "      <td>14-Sep-17</td>\n",
       "      <td>504.22</td>\n",
       "      <td>510.47</td>\n",
       "      <td>367.04</td>\n",
       "      <td>367.04</td>\n",
       "      <td>257431000.0</td>\n",
       "      <td>8,359,650,000</td>\n",
       "    </tr>\n",
       "    <tr>\n",
       "      <th>4</th>\n",
       "      <td>13-Sep-17</td>\n",
       "      <td>509.47</td>\n",
       "      <td>519.20</td>\n",
       "      <td>471.22</td>\n",
       "      <td>503.61</td>\n",
       "      <td>340344000.0</td>\n",
       "      <td>8,445,540,000</td>\n",
       "    </tr>\n",
       "  </tbody>\n",
       "</table>\n",
       "</div>"
      ],
      "text/plain": [
       "        Date    Open    High     Low   Close       Volume     Market Cap\n",
       "0  17-Sep-17  438.90  438.90  384.06  419.86  221828000.0  7,279,520,000\n",
       "1  16-Sep-17  424.49  450.98  388.20  440.22  313583000.0  7,039,590,000\n",
       "2  15-Sep-17  369.49  448.39  301.69  424.02  707231000.0  6,126,800,000\n",
       "3  14-Sep-17  504.22  510.47  367.04  367.04  257431000.0  8,359,650,000\n",
       "4  13-Sep-17  509.47  519.20  471.22  503.61  340344000.0  8,445,540,000"
      ]
     },
     "execution_count": 3,
     "metadata": {},
     "output_type": "execute_result"
    }
   ],
   "source": [
    "bitcoin_df.head()"
   ]
  },
  {
   "cell_type": "markdown",
   "metadata": {},
   "source": [
    "### View dash data"
   ]
  },
  {
   "cell_type": "code",
   "execution_count": 27,
   "metadata": {
    "collapsed": true
   },
   "outputs": [
    {
     "data": {
      "text/plain": [
       "Date           object\n",
       "Open          float64\n",
       "High          float64\n",
       "Low           float64\n",
       "Close         float64\n",
       "Volume        float64\n",
       "Market Cap     object\n",
       "dtype: object"
      ]
     },
     "execution_count": 27,
     "metadata": {},
     "output_type": "execute_result"
    }
   ],
   "source": [
    "dash_df.head()\n",
    "dash_df.dtypes"
   ]
  },
  {
   "cell_type": "markdown",
   "metadata": {},
   "source": [
    "### Merge the two DataFrames together based on the Dates they share\n",
    "\n",
    "**NOTE:** `pd.merge` allows for a *suffixes* argument, which appends a string to the end of each table's column headers to differentiate them.\n",
    "\n",
    "**Example:** `pd.merge(tbl_A, tbl_B, on=user_id, suffixes=(\"_A\", \"_B\"))`"
   ]
  },
  {
   "cell_type": "code",
   "execution_count": 11,
   "metadata": {
    "collapsed": true
   },
   "outputs": [],
   "source": [
    "combined_df = pd.merge(dash_df,bitcoin_df,on='Date',suffixes=('_dash','_btc'))"
   ]
  },
  {
   "cell_type": "markdown",
   "metadata": {},
   "source": [
    "### Create variables containing max open, max close, and the total volume for both currencies"
   ]
  },
  {
   "cell_type": "code",
   "execution_count": 23,
   "metadata": {
    "collapsed": true
   },
   "outputs": [
    {
     "data": {
      "text/html": [
       "<div>\n",
       "<style scoped>\n",
       "    .dataframe tbody tr th:only-of-type {\n",
       "        vertical-align: middle;\n",
       "    }\n",
       "\n",
       "    .dataframe tbody tr th {\n",
       "        vertical-align: top;\n",
       "    }\n",
       "\n",
       "    .dataframe thead th {\n",
       "        text-align: right;\n",
       "    }\n",
       "</style>\n",
       "<table border=\"1\" class=\"dataframe\">\n",
       "  <thead>\n",
       "    <tr style=\"text-align: right;\">\n",
       "      <th></th>\n",
       "    </tr>\n",
       "  </thead>\n",
       "  <tbody>\n",
       "  </tbody>\n",
       "</table>\n",
       "</div>"
      ],
      "text/plain": [
       "Empty DataFrame\n",
       "Columns: []\n",
       "Index: []"
      ]
     },
     "execution_count": 23,
     "metadata": {},
     "output_type": "execute_result"
    }
   ],
   "source": [
    "# Collecting best open for Bitcoin and Dash\n",
    "maxbtc = combined_df['Open_btc'].max()\n",
    "maxdash = combined_df['Open_dash'].max()\n",
    "\n",
    "# Collecting best close for Bitcoin and Dash\n",
    "closebtc = combined_df['Close_btc'].max()\n",
    "closedash = combined_df['Close_dash'].max()\n",
    "\n",
    "\n",
    "# Collecting the total volume for Bitcoin and Dash\n",
    "volumebtc = combined_df['Volume_btc'].sum()\n",
    "volumedash = combined_df['Volume_dash'].sum()\n",
    "\n",
    "pd.DataFrame()"
   ]
  },
  {
   "cell_type": "markdown",
   "metadata": {},
   "source": [
    "### Use variables from above to create a summary DataFrame"
   ]
  },
  {
   "cell_type": "code",
   "execution_count": 25,
   "metadata": {
    "collapsed": true
   },
   "outputs": [],
   "source": [
    "summary = pd.DataFrame(data=[maxbtc,maxdash,closebtc,closedash,volumebtc,volumedash])  #use dictionary"
   ]
  },
  {
   "cell_type": "code",
   "execution_count": 26,
   "metadata": {},
   "outputs": [
    {
     "data": {
      "text/html": [
       "<div>\n",
       "<style scoped>\n",
       "    .dataframe tbody tr th:only-of-type {\n",
       "        vertical-align: middle;\n",
       "    }\n",
       "\n",
       "    .dataframe tbody tr th {\n",
       "        vertical-align: top;\n",
       "    }\n",
       "\n",
       "    .dataframe thead th {\n",
       "        text-align: right;\n",
       "    }\n",
       "</style>\n",
       "<table border=\"1\" class=\"dataframe\">\n",
       "  <thead>\n",
       "    <tr style=\"text-align: right;\">\n",
       "      <th></th>\n",
       "      <th>0</th>\n",
       "    </tr>\n",
       "  </thead>\n",
       "  <tbody>\n",
       "    <tr>\n",
       "      <th>0</th>\n",
       "      <td>7.724200e+02</td>\n",
       "    </tr>\n",
       "    <tr>\n",
       "      <th>1</th>\n",
       "      <td>4.004200e+02</td>\n",
       "    </tr>\n",
       "    <tr>\n",
       "      <th>2</th>\n",
       "      <td>7.545600e+02</td>\n",
       "    </tr>\n",
       "    <tr>\n",
       "      <th>3</th>\n",
       "      <td>3.998500e+02</td>\n",
       "    </tr>\n",
       "    <tr>\n",
       "      <th>4</th>\n",
       "      <td>2.438305e+10</td>\n",
       "    </tr>\n",
       "    <tr>\n",
       "      <th>5</th>\n",
       "      <td>2.960278e+09</td>\n",
       "    </tr>\n",
       "  </tbody>\n",
       "</table>\n",
       "</div>"
      ],
      "text/plain": [
       "              0\n",
       "0  7.724200e+02\n",
       "1  4.004200e+02\n",
       "2  7.545600e+02\n",
       "3  3.998500e+02\n",
       "4  2.438305e+10\n",
       "5  2.960278e+09"
      ]
     },
     "execution_count": 26,
     "metadata": {},
     "output_type": "execute_result"
    }
   ],
   "source": [
    "summary"
   ]
  },
  {
   "cell_type": "code",
   "execution_count": null,
   "metadata": {},
   "outputs": [],
   "source": []
  }
 ],
 "metadata": {
  "kernelspec": {
   "display_name": "Python 3",
   "language": "python",
   "name": "python3"
  },
  "language_info": {
   "codemirror_mode": {
    "name": "ipython",
    "version": 3
   },
   "file_extension": ".py",
   "mimetype": "text/x-python",
   "name": "python",
   "nbconvert_exporter": "python",
   "pygments_lexer": "ipython3",
   "version": "3.7.0"
  }
 },
 "nbformat": 4,
 "nbformat_minor": 2
}

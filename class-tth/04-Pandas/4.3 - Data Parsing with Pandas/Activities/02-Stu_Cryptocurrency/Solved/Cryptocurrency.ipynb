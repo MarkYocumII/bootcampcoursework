{
 "cells": [
  {
   "cell_type": "markdown",
   "metadata": {},
   "source": [
    "# Merging Cryptocurrency\n",
    "\n",
    "### Instructions\n",
    "\n",
    "* Read in both of the CSV files and print out their DataFrames.\n",
    "\n",
    "* Perform an inner merge that combines both DataFrames on the \"Date\" column.\n",
    "\n",
    "* Rename the columns within the newly merged DataFrame so that the headers are more descriptive.\n",
    "\n",
    "* Create a summary table that includes the following information: `Best Bitcoin Open`, `Best Dash Open`, `Best Bitcoin Close`, `Best Dash Close`, `Total Bitcoin Volume`, `Total Dash Volume`.\n",
    "\n",
    "* `Total Bitcoin Volume` and `Total Dash Volume` should be calculated to have units of \"millions\" and be rounded to two decimal places.\n"
   ]
  },
  {
   "cell_type": "markdown",
   "metadata": {},
   "source": [
    "### Import Dependencies"
   ]
  },
  {
   "cell_type": "code",
   "execution_count": null,
   "metadata": {
    "collapsed": true
   },
   "outputs": [],
   "source": [
    "import pandas as pd"
   ]
  },
  {
   "cell_type": "markdown",
   "metadata": {},
   "source": [
    "### Load data files"
   ]
  },
  {
   "cell_type": "code",
   "execution_count": null,
   "metadata": {
    "collapsed": true
   },
   "outputs": [],
   "source": [
    "# Specify path to files\n",
    "bitcoin_csv = \"Resources/bitcoin_cash_price.csv\"\n",
    "dash_csv = \"Resources/dash_price.csv\"\n",
    "\n",
    "# read files from path\n",
    "bitcoin_df = pd.read_csv(bitcoin_csv)\n",
    "dash_df = pd.read_csv(dash_csv)"
   ]
  },
  {
   "cell_type": "markdown",
   "metadata": {},
   "source": [
    "### View bitcoin data"
   ]
  },
  {
   "cell_type": "code",
   "execution_count": null,
   "metadata": {},
   "outputs": [],
   "source": [
    "bitcoin_df.head()"
   ]
  },
  {
   "cell_type": "markdown",
   "metadata": {},
   "source": [
    "### View dash data"
   ]
  },
  {
   "cell_type": "code",
   "execution_count": null,
   "metadata": {},
   "outputs": [],
   "source": [
    "dash_df.head()"
   ]
  },
  {
   "cell_type": "markdown",
   "metadata": {},
   "source": [
    "### Merge the two DataFrames together based on the Dates they share\n",
    "\n",
    "**NOTE:** `pd.merge` allows for a *suffixes* argument, which appends a string to the end of each table's column headers to differentiate them.\n",
    "\n",
    "**Example:** `pd.merge(tbl_A, tbl_B, on=user_id, suffixes=(\"_A\", \"_B\"))`"
   ]
  },
  {
   "cell_type": "code",
   "execution_count": null,
   "metadata": {},
   "outputs": [],
   "source": [
    "crypto_df = pd.merge(bitcoin_df, dash_df, on=\"Date\", suffixes=(\"_Bitcoin\", \"_Dash\"))\n",
    "crypto_df.head()"
   ]
  },
  {
   "cell_type": "markdown",
   "metadata": {},
   "source": [
    "### Create variables containing max open, max close, and the total volume for both currencies"
   ]
  },
  {
   "cell_type": "code",
   "execution_count": null,
   "metadata": {
    "collapsed": true
   },
   "outputs": [],
   "source": [
    "# Collecting best open for Bitcoin and Dash\n",
    "bitcoin_open = crypto_df[\"Open_Bitcoin\"].max()\n",
    "dash_open = crypto_df[\"Open_Dash\"].max()\n",
    "\n",
    "# Collecting best close for Bitcoin and Dash\n",
    "bitcoin_close = crypto_df[\"Close_Bitcoin\"].max()\n",
    "dash_close = crypto_df[\"Close_Dash\"].max()\n",
    "\n",
    "# Collecting the total volume for Bitcoin and Dash\n",
    "bitcoin_volume = round(crypto_df[\"Volume_Bitcoin\"].sum()/1000000, 2)\n",
    "dash_volume = round(crypto_df[\"Volume_Dash\"].sum()/1000000, 2)"
   ]
  },
  {
   "cell_type": "markdown",
   "metadata": {},
   "source": [
    "### Use variables from above to create a summary DataFrame"
   ]
  },
  {
   "cell_type": "code",
   "execution_count": null,
   "metadata": {},
   "outputs": [],
   "source": [
    "# Creating a summary DataFrame using above values\n",
    "summary_df = pd.DataFrame({\"Best Bitcoin Open\": [bitcoin_open],\n",
    "                           \"Best Bitcoin Close\": [bitcoin_close],\n",
    "                           \"Total Bitcoin Volume\": str(bitcoin_volume)+\" million\",\n",
    "                           \"Best Dash Open\": [dash_open],\n",
    "                           \"Best Dash Close\": [dash_close],\n",
    "                           \"Total Dash Volume\": str(dash_volume)+\" million\"})\n",
    "\n",
    "summary_df"
   ]
  },
  {
   "cell_type": "code",
   "execution_count": null,
   "metadata": {},
   "outputs": [],
   "source": []
  }
 ],
 "metadata": {
  "kernelspec": {
   "display_name": "RicePythonData",
   "language": "python",
   "name": "ricepythondata"
  },
  "language_info": {
   "codemirror_mode": {
    "name": "ipython",
    "version": 3
   },
   "file_extension": ".py",
   "mimetype": "text/x-python",
   "name": "python",
   "nbconvert_exporter": "python",
   "pygments_lexer": "ipython3",
   "version": "3.7.1"
  }
 },
 "nbformat": 4,
 "nbformat_minor": 2
}

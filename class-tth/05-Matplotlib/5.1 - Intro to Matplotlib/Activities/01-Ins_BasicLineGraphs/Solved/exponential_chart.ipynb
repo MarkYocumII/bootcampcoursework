{
 "cells": [
  {
   "cell_type": "markdown",
   "metadata": {},
   "source": [
    "# Creating a chart"
   ]
  },
  {
   "cell_type": "markdown",
   "metadata": {},
   "source": [
    "#### Import Numpy for calculations and matplotlib for charting\n",
    "\n",
    "##### If your version of matplotlib is less than 2.2, go to your command line and run `pip install --upgrade matplotlib`"
   ]
  },
  {
   "cell_type": "code",
   "execution_count": 1,
   "metadata": {
    "collapsed": false
   },
   "outputs": [
    {
     "name": "stdout",
     "output_type": "stream",
     "text": [
      "3.0.2\n"
     ]
    }
   ],
   "source": [
    "# Ensure that you have `matplotlib` installed.\n",
    "# If not, from your command line, run `pip install matplotlib`\n",
    "import numpy as np\n",
    "import matplotlib.pyplot as plt"
   ]
  },
  {
   "cell_type": "markdown",
   "metadata": {},
   "source": [
    "#### Creates a list from 0 to 5 with each step being 0.1 higher than the last\n",
    "\n",
    "[Documentation for np.arange](https://docs.scipy.org/doc/numpy/reference/generated/numpy.arange.html)\n",
    "\n",
    "`np.arange()` is similar to `range()` except that you can define the intervals and the resulting output is an array."
   ]
  },
  {
   "cell_type": "code",
   "execution_count": 2,
   "metadata": {
    "collapsed": false
   },
   "outputs": [
    {
     "data": {
      "text/plain": [
       "array([0. , 0.1, 0.2, 0.3, 0.4, 0.5, 0.6, 0.7, 0.8, 0.9, 1. , 1.1, 1.2,\n",
       "       1.3, 1.4, 1.5, 1.6, 1.7, 1.8, 1.9, 2. , 2.1, 2.2, 2.3, 2.4, 2.5,\n",
       "       2.6, 2.7, 2.8, 2.9, 3. , 3.1, 3.2, 3.3, 3.4, 3.5, 3.6, 3.7, 3.8,\n",
       "       3.9, 4. , 4.1, 4.2, 4.3, 4.4, 4.5, 4.6, 4.7, 4.8, 4.9])"
      ]
     },
     "execution_count": 2,
     "metadata": {},
     "output_type": "execute_result"
    }
   ],
   "source": [
    "# np.arange creates a numpy array with these arguments: (from, to, intervals)\n",
    "x_axis = np.arange(0, 5, 0.1)\n",
    "x_axis"
   ]
  },
  {
   "cell_type": "markdown",
   "metadata": {},
   "source": [
    "#### Create an exponential series of values which we can then chart"
   ]
  },
  {
   "cell_type": "markdown",
   "metadata": {},
   "source": [
    "[Documentation for list comprehensions](https://www.pythonforbeginners.com/basics/list-comprehensions-in-python)\n",
    "\n",
    "The code below is equivalent to saying:\n",
    "\n",
    "```\n",
    "e_x = []\n",
    "for x in x_axis:\n",
    "    e_x.append(np.exp(x))\n",
    "e_x\n",
    "```\n",
    "#### e -> Euler's number\n",
    "\n",
    "At a basic level, e is the maximum possible growth after continuously compounding 100% growth over one time period.\n",
    "\n",
    "[Further explanation of e](https://www.youtube.com/watch?v=_-x90wGBD8U)"
   ]
  },
  {
   "cell_type": "code",
   "execution_count": 4,
   "metadata": {
    "collapsed": false,
    "scrolled": true
   },
   "outputs": [
    {
     "data": {
      "text/plain": [
       "[1.0,\n",
       " 1.1051709180756477,\n",
       " 1.2214027581601699,\n",
       " 1.3498588075760032,\n",
       " 1.4918246976412703,\n",
       " 1.6487212707001282,\n",
       " 1.822118800390509,\n",
       " 2.0137527074704766,\n",
       " 2.225540928492468,\n",
       " 2.45960311115695,\n",
       " 2.718281828459045,\n",
       " 3.0041660239464334,\n",
       " 3.320116922736548,\n",
       " 3.6692966676192444,\n",
       " 4.055199966844675,\n",
       " 4.4816890703380645,\n",
       " 4.953032424395115,\n",
       " 5.473947391727201,\n",
       " 6.0496474644129465,\n",
       " 6.68589444227927,\n",
       " 7.38905609893065,\n",
       " 8.166169912567652,\n",
       " 9.025013499434122,\n",
       " 9.974182454814724,\n",
       " 11.023176380641605,\n",
       " 12.182493960703473,\n",
       " 13.463738035001692,\n",
       " 14.879731724872837,\n",
       " 16.444646771097055,\n",
       " 18.174145369443067,\n",
       " 20.085536923187668,\n",
       " 22.197951281441636,\n",
       " 24.532530197109352,\n",
       " 27.112638920657893,\n",
       " 29.964100047397025,\n",
       " 33.11545195869231,\n",
       " 36.59823444367799,\n",
       " 40.4473043600674,\n",
       " 44.701184493300836,\n",
       " 49.40244910553019,\n",
       " 54.598150033144236,\n",
       " 60.340287597362,\n",
       " 66.68633104092515,\n",
       " 73.69979369959579,\n",
       " 81.45086866496814,\n",
       " 90.01713130052181,\n",
       " 99.48431564193386,\n",
       " 109.94717245212352,\n",
       " 121.51041751873497,\n",
       " 134.28977968493552]"
      ]
     },
     "execution_count": 4,
     "metadata": {},
     "output_type": "execute_result"
    }
   ],
   "source": [
    "e_x = [np.exp(x) for x in x_axis]\n",
    "e_x"
   ]
  },
  {
   "cell_type": "markdown",
   "metadata": {},
   "source": [
    "#### Create a graph based upon the two lists we have created"
   ]
  },
  {
   "cell_type": "code",
   "execution_count": 5,
   "metadata": {
    "collapsed": false
   },
   "outputs": [
    {
     "data": {
      "text/plain": [
       "[<matplotlib.lines.Line2D at 0x112924438>]"
      ]
     },
     "execution_count": 5,
     "metadata": {},
     "output_type": "execute_result"
    },
    {
     "data": {
      "image/png": "[encoded data removed]",
      "text/plain": [
       "<Figure size 432x288 with 1 Axes>"
      ]
     },
     "metadata": {
      "needs_background": "light"
     },
     "output_type": "display_data"
    }
   ],
   "source": [
    "plt.plot(x_axis, e_x)"
   ]
  },
  {
   "cell_type": "markdown",
   "metadata": {},
   "source": [
    "#### Show the graph that we have created"
   ]
  },
  {
   "cell_type": "code",
   "execution_count": null,
   "metadata": {
    "collapsed": false
   },
   "outputs": [],
   "source": [
    "plt.show()"
   ]
  },
  {
   "cell_type": "markdown",
   "metadata": {},
   "source": [
    "#### Update axis labels"
   ]
  },
  {
   "cell_type": "code",
   "execution_count": 8,
   "metadata": {
    "collapsed": false
   },
   "outputs": [
    {
     "data": {
      "image/png": "[encoded data removed]",
      "text/plain": [
       "<Figure size 432x288 with 1 Axes>"
      ]
     },
     "metadata": {
      "needs_background": "light"
     },
     "output_type": "display_data"
    }
   ],
   "source": [
    "# Give our graph axis labels\n",
    "plt.xlabel(\"Time With MatPlotLib\")\n",
    "plt.ylabel(\"How Cool MatPlotLib Seems\")\n",
    "\n",
    "# Have to plot our chart once again as it doesn't stick after being shown\n",
    "plt.plot(x_axis, e_x)\n",
    "plt.show()"
   ]
  },
  {
   "cell_type": "code",
   "execution_count": null,
   "metadata": {
    "collapsed": true
   },
   "outputs": [],
   "source": []
  }
 ],
 "metadata": {
  "anaconda-cloud": {},
  "kernelspec": {
   "display_name": "RicePythonData",
   "language": "python",
   "name": "ricepythondata"
  },
  "language_info": {
   "codemirror_mode": {
    "name": "ipython",
    "version": 3
   },
   "file_extension": ".py",
   "mimetype": "text/x-python",
   "name": "python",
   "nbconvert_exporter": "python",
   "pygments_lexer": "ipython3",
   "version": "3.7.1"
  }
 },
 "nbformat": 4,
 "nbformat_minor": 2
}

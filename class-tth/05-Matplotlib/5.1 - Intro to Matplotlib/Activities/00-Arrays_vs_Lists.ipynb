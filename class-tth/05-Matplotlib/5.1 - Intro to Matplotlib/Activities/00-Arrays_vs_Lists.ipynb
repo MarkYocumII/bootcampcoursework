{
 "cells": [
  {
   "cell_type": "markdown",
   "metadata": {},
   "source": [
    "# Comparing Arrays and Lists\n",
    "\n",
    "### `NumPy` is a general-purpose array-processing package. It provides a high-performance multidimensional array object, and tools for working with these arrays.\n",
    "### `NumPy` arrays are very similar to python lists, but some ways that they differ include:\n",
    "- Arrays require data to be of the same type\n",
    "- An Array's size is static\n",
    "- Due to the prior two differences, arrays require MUCH less memory\n",
    "- Arrays can be multidimensional\n",
    "- Arrays offer numeric analysis functions that can be broadcast across the entire array."
   ]
  },
  {
   "cell_type": "markdown",
   "metadata": {},
   "source": [
    "#### Import dependencies"
   ]
  },
  {
   "cell_type": "code",
   "execution_count": 1,
   "metadata": {
    "collapsed": true
   },
   "outputs": [],
   "source": [
    "import numpy as np"
   ]
  },
  {
   "cell_type": "markdown",
   "metadata": {},
   "source": [
    "#### Create list and array"
   ]
  },
  {
   "cell_type": "code",
   "execution_count": 2,
   "metadata": {
    "collapsed": true
   },
   "outputs": [],
   "source": [
    "x_list = [0,1,2,3,4]\n",
    "x_array = np.array(x_list)"
   ]
  },
  {
   "cell_type": "markdown",
   "metadata": {},
   "source": [
    "#### Comparison of the objects' types"
   ]
  },
  {
   "cell_type": "code",
   "execution_count": 3,
   "metadata": {
    "collapsed": false
   },
   "outputs": [
    {
     "name": "stdout",
     "output_type": "stream",
     "text": [
      "Types\n",
      "--------------------\n",
      "List:  <class 'list'>\n",
      "Array:  <class 'numpy.ndarray'>\n"
     ]
    }
   ],
   "source": [
    "print(\"Types\")\n",
    "print(\"-\"*20)\n",
    "\n",
    "print(\"List: \", type(x_list))\n",
    "print(\"Array: \", type(x_array))"
   ]
  },
  {
   "cell_type": "markdown",
   "metadata": {},
   "source": [
    "#### Comparison of the objects' outputs"
   ]
  },
  {
   "cell_type": "code",
   "execution_count": 4,
   "metadata": {
    "collapsed": false
   },
   "outputs": [
    {
     "name": "stdout",
     "output_type": "stream",
     "text": [
      "Output\n",
      "--------------------\n",
      "List:  [0, 1, 2, 3, 4]\n",
      "Array:  [0 1 2 3 4]\n"
     ]
    }
   ],
   "source": [
    "print(\"Output\")\n",
    "print(\"-\"*20)\n",
    "\n",
    "print(\"List: \", x_list)\n",
    "print(\"Array: \",x_array)"
   ]
  },
  {
   "cell_type": "markdown",
   "metadata": {},
   "source": [
    "#### Comparison of the objects' handling of conflicting datatypes"
   ]
  },
  {
   "cell_type": "code",
   "execution_count": 5,
   "metadata": {
    "collapsed": false
   },
   "outputs": [
    {
     "name": "stdout",
     "output_type": "stream",
     "text": [
      "Conflicting data types\n",
      "--------------------\n",
      "List\n",
      "<class 'int'>\n",
      "<class 'int'>\n",
      "<class 'str'>\n",
      "<class 'float'>\n",
      "\n",
      "Array\n",
      "<class 'numpy.str_'>\n",
      "<class 'numpy.str_'>\n",
      "<class 'numpy.str_'>\n",
      "<class 'numpy.str_'>\n"
     ]
    }
   ],
   "source": [
    "print(\"Conflicting data types\")\n",
    "print(\"-\"*20)\n",
    "\n",
    "y_list = [0,1, 'potato', 0.4]\n",
    "y_array = np.array(y_list)\n",
    "\n",
    "print(\"List\")\n",
    "for i in y_list:\n",
    "    print(type(i))\n",
    "    \n",
    "print()\n",
    "print(\"Array\")\n",
    "\n",
    "for j in y_array:\n",
    "    print(type(j))"
   ]
  },
  {
   "cell_type": "markdown",
   "metadata": {},
   "source": [
    "#### Comparison of broadcasting mathematical functions"
   ]
  },
  {
   "cell_type": "code",
   "execution_count": 7,
   "metadata": {
    "collapsed": false
   },
   "outputs": [
    {
     "name": "stdout",
     "output_type": "stream",
     "text": [
      "Broadcasting mathematical equations\n",
      "--------------------\n",
      "Array:  [ 0  1  4  9 16]\n",
      "List:  [0, 1, 2, 3, 4, 0, 1, 2, 3, 4, 0, 1, 2, 3, 4, 0, 1, 2, 3, 4, 0, 1, 2, 3, 4]\n"
     ]
    }
   ],
   "source": [
    "print(\"Broadcasting mathematical equations\")\n",
    "print(\"-\"*20)\n",
    "\n",
    "print(\"Array: \", x_array*x_array)\n",
    "print(\"List: \", x_list*5)"
   ]
  },
  {
   "cell_type": "code",
   "execution_count": null,
   "metadata": {
    "collapsed": true
   },
   "outputs": [],
   "source": []
  }
 ],
 "metadata": {
  "kernelspec": {
   "display_name": "RicePythonData",
   "language": "python",
   "name": "ricepythondata"
  },
  "language_info": {
   "codemirror_mode": {
    "name": "ipython",
    "version": 3
   },
   "file_extension": ".py",
   "mimetype": "text/x-python",
   "name": "python",
   "nbconvert_exporter": "python",
   "pygments_lexer": "ipython3",
   "version": "3.7.1"
  }
 },
 "nbformat": 4,
 "nbformat_minor": 2
}

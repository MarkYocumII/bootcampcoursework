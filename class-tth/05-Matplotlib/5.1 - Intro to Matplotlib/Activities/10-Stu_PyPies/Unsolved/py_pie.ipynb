{
 "cells": [
  {
   "cell_type": "markdown",
   "metadata": {},
   "source": [
    "# Python Pie Charts for Pies\n",
    "\n",
    "### Instructions:\n",
    "\n",
    "- Create a chart to replicate the image below.\n",
    "- For any questions regarding the `plt.pie()` function, refer to the [pie chart documentation](https://matplotlib.org/api/_as_gen/matplotlib.pyplot.pie.html)\n",
    "\n",
    "<img src=\"../Images/PyPiesExample.png\" width=\"500\"></img>"
   ]
  },
  {
   "cell_type": "markdown",
   "metadata": {},
   "source": [
    "#### Run this cell for interactive plots"
   ]
  },
  {
   "cell_type": "code",
   "execution_count": null,
   "metadata": {
    "collapsed": true
   },
   "outputs": [],
   "source": [
    "%matplotlib notebook"
   ]
  },
  {
   "cell_type": "markdown",
   "metadata": {},
   "source": [
    "#### Import dependencies"
   ]
  },
  {
   "cell_type": "code",
   "execution_count": null,
   "metadata": {
    "collapsed": true
   },
   "outputs": [],
   "source": [
    "import matplotlib.pyplot as plt\n",
    "import numpy as np"
   ]
  },
  {
   "cell_type": "markdown",
   "metadata": {},
   "source": [
    "#### Create data"
   ]
  },
  {
   "cell_type": "code",
   "execution_count": null,
   "metadata": {
    "collapsed": true
   },
   "outputs": [],
   "source": [
    "pies = [\"Apple\", \"Pumpkin\", \"Chocolate Creme\", \"Cherry\", \"Apple Crumb\", \"Pecan\", \"Lemon Meringue\", \"Blueberry\", \"Key Lime\", \"Peach\"]\n",
    "pie_votes = [47,37,32,27,25,24,24,21,18,16]\n",
    "colors = [\"yellow\",\"green\",\"lightblue\",\"orange\",\"red\",\"purple\",\"pink\",\"yellowgreen\",\"lightskyblue\",\"lightcoral\"]\n",
    "explode = (0.1,0,0,0,0,0,0,0,0,0)"
   ]
  },
  {
   "cell_type": "markdown",
   "metadata": {},
   "source": [
    "#### Create a pie chart based upon the above data\n",
    "\n",
    "**HINT:** Be sure to notice the data formatting and other aesthetic components."
   ]
  },
  {
   "cell_type": "code",
   "execution_count": null,
   "metadata": {
    "collapsed": false
   },
   "outputs": [],
   "source": []
  },
  {
   "cell_type": "markdown",
   "metadata": {},
   "source": [
    "#### Create axes which are equal so we have a perfect circle"
   ]
  },
  {
   "cell_type": "code",
   "execution_count": null,
   "metadata": {
    "collapsed": false
   },
   "outputs": [],
   "source": []
  },
  {
   "cell_type": "markdown",
   "metadata": {},
   "source": [
    "#### Save an image of our chart and show the final product on the screen"
   ]
  },
  {
   "cell_type": "code",
   "execution_count": null,
   "metadata": {
    "collapsed": true
   },
   "outputs": [],
   "source": []
  },
  {
   "cell_type": "code",
   "execution_count": null,
   "metadata": {
    "collapsed": true
   },
   "outputs": [],
   "source": []
  }
 ],
 "metadata": {
  "kernelspec": {
   "display_name": "RicePythonData",
   "language": "python",
   "name": "ricepythondata"
  },
  "language_info": {
   "codemirror_mode": {
    "name": "ipython",
    "version": 3
   },
   "file_extension": ".py",
   "mimetype": "text/x-python",
   "name": "python",
   "nbconvert_exporter": "python",
   "pygments_lexer": "ipython3",
   "version": "3.7.1"
  }
 },
 "nbformat": 4,
 "nbformat_minor": 2
}

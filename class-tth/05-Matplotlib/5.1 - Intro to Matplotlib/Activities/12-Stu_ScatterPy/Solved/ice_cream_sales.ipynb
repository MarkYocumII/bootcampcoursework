{
 "cells": [
  {
   "cell_type": "markdown",
   "metadata": {},
   "source": [
    "# Ice Cream Sales Scatter Plot\n",
    "\n",
    "### Instructions:\n",
    "\n",
    "- Create a chart to replicate the image below.\n",
    "- For questions regarding `plt.scatter()`, refer to the [scatter plot documentation](https://matplotlib.org/api/_as_gen/matplotlib.pyplot.scatter.html)\n",
    "\n",
    "<img src=\"../Images/IceCreamSalesExample.png\" width=\"500\"></img>"
   ]
  },
  {
   "cell_type": "markdown",
   "metadata": {},
   "source": [
    "#### Run this cell for interactive plots"
   ]
  },
  {
   "cell_type": "code",
   "execution_count": null,
   "metadata": {
    "collapsed": true
   },
   "outputs": [],
   "source": [
    "%matplotlib notebook"
   ]
  },
  {
   "cell_type": "markdown",
   "metadata": {},
   "source": [
    "#### Import dependencies"
   ]
  },
  {
   "cell_type": "code",
   "execution_count": null,
   "metadata": {
    "collapsed": true
   },
   "outputs": [],
   "source": [
    "import matplotlib.pyplot as plt\n",
    "import numpy as np"
   ]
  },
  {
   "cell_type": "markdown",
   "metadata": {},
   "source": [
    "#### Create data"
   ]
  },
  {
   "cell_type": "code",
   "execution_count": null,
   "metadata": {
    "collapsed": true
   },
   "outputs": [],
   "source": [
    "temp = [14.2, 16.4, 11.9, 15.2, 18.5, 22.1, 19.4, 25.1, 23.4, 18.1, 22.6, 17.2]\n",
    "sales = [215, 325, 185, 332, 406, 522, 412, 614, 544, 421, 445, 408]"
   ]
  },
  {
   "cell_type": "markdown",
   "metadata": {},
   "source": [
    "#### Create scatter plot based on the above data\n",
    "\n",
    "##### BONUS:\n",
    "- Try creating the scatter plot using the below data to drive the size of the datapoints\n",
    "    - `scoop_price = [89, 18, 10, 28, 79, 46, 29, 38, 89, 26, 45, 62]`"
   ]
  },
  {
   "cell_type": "code",
   "execution_count": null,
   "metadata": {
    "collapsed": false
   },
   "outputs": [],
   "source": [
    "# Without scoop_price\n",
    "# plt.scatter(temp, sales, marker=\"o\", facecolors=\"red\", edgecolors=\"black\")\n",
    "\n",
    "# BONUS\n",
    "scoop_price = [89, 18, 10, 28, 79, 46, 29, 38, 89, 26, 45, 62]\n",
    "plt.scatter(temp, sales, marker=\"o\", facecolors=\"red\", edgecolors=\"black\", s=scoop_price)"
   ]
  },
  {
   "cell_type": "markdown",
   "metadata": {},
   "source": [
    "#### Set the upper and lower limits of our y axis"
   ]
  },
  {
   "cell_type": "code",
   "execution_count": null,
   "metadata": {
    "collapsed": false
   },
   "outputs": [],
   "source": [
    "plt.ylim(min(sales)*0.95,max(sales)*1.05)"
   ]
  },
  {
   "cell_type": "markdown",
   "metadata": {},
   "source": [
    "#### Set the upper and lower limits of our x axis"
   ]
  },
  {
   "cell_type": "code",
   "execution_count": null,
   "metadata": {
    "collapsed": false
   },
   "outputs": [],
   "source": [
    "plt.xlim(min(temp)*0.95, max(temp)*1.05)"
   ]
  },
  {
   "cell_type": "markdown",
   "metadata": {},
   "source": [
    "#### Create a title, x label, and y label for our chart"
   ]
  },
  {
   "cell_type": "code",
   "execution_count": null,
   "metadata": {
    "collapsed": false
   },
   "outputs": [],
   "source": [
    "plt.title(\"Ice Cream Sales v Temperature\")\n",
    "plt.xlabel(\"Temperature (Celsius)\")\n",
    "plt.ylabel(\"Sales (Dollars)\")"
   ]
  },
  {
   "cell_type": "markdown",
   "metadata": {},
   "source": [
    "#### Save an image of the chart and print to screen"
   ]
  },
  {
   "cell_type": "code",
   "execution_count": null,
   "metadata": {
    "collapsed": true
   },
   "outputs": [],
   "source": [
    "# NOTE: If your plot shrinks after saving an image,\n",
    "# update matplotlib to 2.2 or higher,\n",
    "# or simply run the above cells again.\n",
    "plt.savefig(\"../Images/IceCreamSales.png\")\n",
    "plt.show()"
   ]
  },
  {
   "cell_type": "code",
   "execution_count": null,
   "metadata": {
    "collapsed": true
   },
   "outputs": [],
   "source": []
  }
 ],
 "metadata": {
  "kernelspec": {
   "display_name": "RicePythonData",
   "language": "python",
   "name": "ricepythondata"
  },
  "language_info": {
   "codemirror_mode": {
    "name": "ipython",
    "version": 3
   },
   "file_extension": ".py",
   "mimetype": "text/x-python",
   "name": "python",
   "nbconvert_exporter": "python",
   "pygments_lexer": "ipython3",
   "version": "3.7.1"
  }
 },
 "nbformat": 4,
 "nbformat_minor": 2
}

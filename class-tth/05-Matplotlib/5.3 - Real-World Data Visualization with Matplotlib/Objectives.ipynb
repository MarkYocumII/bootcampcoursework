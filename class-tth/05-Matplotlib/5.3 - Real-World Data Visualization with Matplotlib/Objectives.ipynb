{
 "cells": [
  {
   "cell_type": "markdown",
   "metadata": {},
   "source": [
    "# Objectives\n",
    "----\n",
    "\n",
    "- Students should be able to describe the meaning of each of the three basic measures of central tendency — mean, median, and mode.\n",
    "\n",
    "- Students should be able to choose the appropriate measure of central tendency to describe a given data set.\n",
    "\n",
    "- Students should be able to describe what variance reveals about a data set.\n",
    "\n",
    "- Students should be able to describe the difference between a sample and a population.\n",
    "\n",
    "- Students should be able to describe the meaning of standard error.\n",
    "\n",
    "- Students should be able to add error bars to plots generated with Matplotlib.\n",
    "\n",
    "- Students should be able to describe the utility of fitting curves to data."
   ]
  },
  {
   "cell_type": "code",
   "execution_count": null,
   "metadata": {},
   "outputs": [],
   "source": []
  }
 ],
 "metadata": {
  "kernelspec": {
   "display_name": "Python 3",
   "language": "python",
   "name": "python3"
  },
  "language_info": {
   "codemirror_mode": {
    "name": "ipython",
    "version": 3
   },
   "file_extension": ".py",
   "mimetype": "text/x-python",
   "name": "python",
   "nbconvert_exporter": "python",
   "pygments_lexer": "ipython3",
   "version": "3.6.3"
  }
 },
 "nbformat": 4,
 "nbformat_minor": 2
}

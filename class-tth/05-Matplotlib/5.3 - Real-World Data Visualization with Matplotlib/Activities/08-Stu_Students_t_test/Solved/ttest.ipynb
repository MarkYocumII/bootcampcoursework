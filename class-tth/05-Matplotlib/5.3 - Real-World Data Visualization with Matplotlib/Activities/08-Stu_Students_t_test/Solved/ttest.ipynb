{
 "cells": [
  {
   "cell_type": "code",
   "execution_count": 1,
   "metadata": {},
   "outputs": [],
   "source": [
    "%matplotlib notebook"
   ]
  },
  {
   "cell_type": "code",
   "execution_count": 1,
   "metadata": {},
   "outputs": [],
   "source": [
    "# Dependencies\n",
    "import matplotlib.pyplot as plt\n",
    "import numpy as np\n",
    "import pandas as pd\n",
    "from scipy import stats"
   ]
  },
  {
   "cell_type": "code",
   "execution_count": 2,
   "metadata": {},
   "outputs": [],
   "source": [
    "# Read in data\n",
    "general_heights = pd.read_csv(\"../Resources/general_heights.csv\")\n",
    "\n",
    "wba_data = pd.read_csv(\"../Resources/wba_data.csv\")\n",
    "wba_heights = wba_data.iloc[:, -1]"
   ]
  },
  {
   "cell_type": "code",
   "execution_count": 3,
   "metadata": {},
   "outputs": [],
   "source": [
    "# Run the t-test\n",
    "(t_stat, p) = stats.ttest_ind(general_heights, wba_heights, equal_var=False)"
   ]
  },
  {
   "cell_type": "code",
   "execution_count": 4,
   "metadata": {},
   "outputs": [
    {
     "name": "stdout",
     "output_type": "stream",
     "text": [
      "The mean height of WNBA players is 72.32.\n",
      "The mean height of women sampled is 64.68416666666667.\n",
      "p is 3.147413627696938e-33.\n",
      "The difference in sample means is significant.\n"
     ]
    }
   ],
   "source": [
    "# Report the data\n",
    "print(\"The mean height of WNBA players is {}.\".format(wba_heights.mean()))\n",
    "print(\"The mean height of women sampled is {}.\".format(\n",
    "    general_heights.values.mean()))\n",
    "\n",
    "print(\"p is {}.\".format(p[0]))\n",
    "if p < 0.05:\n",
    "    print(\"The difference in sample means is significant.\")\n",
    "else:\n",
    "    print(\"The difference in sample means is not significant.\")"
   ]
  },
  {
   "cell_type": "code",
   "execution_count": 6,
   "metadata": {},
   "outputs": [],
   "source": [
    "# Plot sample means with error bars\n",
    "tick_labels = [\"General Public\", \"WBA Players\"]\n",
    "\n",
    "means = [general_heights.mean().values[0], wba_heights.mean()]\n",
    "x_axis = np.arange(0, len(means))\n",
    "\n",
    "sem = [general_heights.sem().values[0], wba_heights.sem()]"
   ]
  },
  {
   "cell_type": "code",
   "execution_count": 15,
   "metadata": {},
   "outputs": [
    {
     "name": "stdout",
     "output_type": "stream",
     "text": [
      "64.6841666667\n"
     ]
    }
   ],
   "source": [
    "print(general_heights.mean().values[0])"
   ]
  },
  {
   "cell_type": "code",
   "execution_count": 7,
   "metadata": {},
   "outputs": [
    {
     "data": {
      "image/png": "[encoded data removed]",
      "text/plain": [
       "<Figure size 432x288 with 1 Axes>"
      ]
     },
     "metadata": {},
     "output_type": "display_data"
    }
   ],
   "source": [
    "# Plot mean height of players\n",
    "fig, ax = plt.subplots()\n",
    "\n",
    "fig.suptitle(\"Mean Height of Women in General Population and WBA Players\",\n",
    "             fontsize=12, fontweight=\"bold\")\n",
    "\n",
    "ax.errorbar(x_axis, means, yerr=sem, fmt=\"o\")\n",
    "\n",
    "ax.set_xlim(-0.5, 1.5)\n",
    "ax.set_ylim(64, 73)\n",
    "\n",
    "ax.set_xticklabels(tick_labels)\n",
    "ax.set_xticks([0, 1])\n",
    "\n",
    "ax.set_ylabel(\"Height (Inches)\")\n",
    "\n",
    "plt.show()"
   ]
  },
  {
   "cell_type": "code",
   "execution_count": null,
   "metadata": {},
   "outputs": [],
   "source": []
  }
 ],
 "metadata": {
  "kernelspec": {
   "display_name": "Python 3",
   "language": "python",
   "name": "python3"
  },
  "language_info": {
   "codemirror_mode": {
    "name": "ipython",
    "version": 3
   },
   "file_extension": ".py",
   "mimetype": "text/x-python",
   "name": "python",
   "nbconvert_exporter": "python",
   "pygments_lexer": "ipython3",
   "version": "3.6.3"
  }
 },
 "nbformat": 4,
 "nbformat_minor": 2
}
